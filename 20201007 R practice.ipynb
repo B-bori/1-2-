{
 "cells": [
  {
   "cell_type": "code",
   "execution_count": 4,
   "metadata": {},
   "outputs": [
    {
     "data": {
      "text/html": [
       "<table>\n",
       "<thead><tr><th scope=col>X</th><th scope=col>TV</th><th scope=col>radio</th><th scope=col>newspaper</th><th scope=col>sales</th></tr></thead>\n",
       "<tbody>\n",
       "\t<tr><td> 1   </td><td>230.1</td><td>37.8 </td><td> 69.2</td><td>22.1 </td></tr>\n",
       "\t<tr><td> 2   </td><td> 44.5</td><td>39.3 </td><td> 45.1</td><td>10.4 </td></tr>\n",
       "\t<tr><td> 3   </td><td> 17.2</td><td>45.9 </td><td> 69.3</td><td> 9.3 </td></tr>\n",
       "\t<tr><td> 4   </td><td>151.5</td><td>41.3 </td><td> 58.5</td><td>18.5 </td></tr>\n",
       "\t<tr><td> 5   </td><td>180.8</td><td>10.8 </td><td> 58.4</td><td>12.9 </td></tr>\n",
       "\t<tr><td> 6   </td><td>  8.7</td><td>48.9 </td><td> 75.0</td><td> 7.2 </td></tr>\n",
       "\t<tr><td> 7   </td><td> 57.5</td><td>32.8 </td><td> 23.5</td><td>11.8 </td></tr>\n",
       "\t<tr><td> 8   </td><td>120.2</td><td>19.6 </td><td> 11.6</td><td>13.2 </td></tr>\n",
       "\t<tr><td> 9   </td><td>  8.6</td><td> 2.1 </td><td>  1.0</td><td> 4.8 </td></tr>\n",
       "\t<tr><td>10   </td><td>199.8</td><td> 2.6 </td><td> 21.2</td><td>10.6 </td></tr>\n",
       "\t<tr><td>11   </td><td> 66.1</td><td> 5.8 </td><td> 24.2</td><td> 8.6 </td></tr>\n",
       "\t<tr><td>12   </td><td>214.7</td><td>24.0 </td><td>  4.0</td><td>17.4 </td></tr>\n",
       "\t<tr><td>13   </td><td> 23.8</td><td>35.1 </td><td> 65.9</td><td> 9.2 </td></tr>\n",
       "\t<tr><td>14   </td><td> 97.5</td><td> 7.6 </td><td>  7.2</td><td> 9.7 </td></tr>\n",
       "\t<tr><td>15   </td><td>204.1</td><td>32.9 </td><td> 46.0</td><td>19.0 </td></tr>\n",
       "\t<tr><td>16   </td><td>195.4</td><td>47.7 </td><td> 52.9</td><td>22.4 </td></tr>\n",
       "\t<tr><td>17   </td><td> 67.8</td><td>36.6 </td><td>114.0</td><td>12.5 </td></tr>\n",
       "\t<tr><td>18   </td><td>281.4</td><td>39.6 </td><td> 55.8</td><td>24.4 </td></tr>\n",
       "\t<tr><td>19   </td><td> 69.2</td><td>20.5 </td><td> 18.3</td><td>11.3 </td></tr>\n",
       "\t<tr><td>20   </td><td>147.3</td><td>23.9 </td><td> 19.1</td><td>14.6 </td></tr>\n",
       "\t<tr><td>21   </td><td>218.4</td><td>27.7 </td><td> 53.4</td><td>18.0 </td></tr>\n",
       "\t<tr><td>22   </td><td>237.4</td><td> 5.1 </td><td> 23.5</td><td>12.5 </td></tr>\n",
       "\t<tr><td>23   </td><td> 13.2</td><td>15.9 </td><td> 49.6</td><td> 5.6 </td></tr>\n",
       "\t<tr><td>24   </td><td>228.3</td><td>16.9 </td><td> 26.2</td><td>15.5 </td></tr>\n",
       "\t<tr><td>25   </td><td> 62.3</td><td>12.6 </td><td> 18.3</td><td> 9.7 </td></tr>\n",
       "\t<tr><td>26   </td><td>262.9</td><td> 3.5 </td><td> 19.5</td><td>12.0 </td></tr>\n",
       "\t<tr><td>27   </td><td>142.9</td><td>29.3 </td><td> 12.6</td><td>15.0 </td></tr>\n",
       "\t<tr><td>28   </td><td>240.1</td><td>16.7 </td><td> 22.9</td><td>15.9 </td></tr>\n",
       "\t<tr><td>29   </td><td>248.8</td><td>27.1 </td><td> 22.9</td><td>18.9 </td></tr>\n",
       "\t<tr><td>30   </td><td> 70.6</td><td>16.0 </td><td> 40.8</td><td>10.5 </td></tr>\n",
       "\t<tr><td>...</td><td>...</td><td>...</td><td>...</td><td>...</td></tr>\n",
       "\t<tr><td>171  </td><td> 50.0</td><td>11.6 </td><td>18.4 </td><td> 8.4 </td></tr>\n",
       "\t<tr><td>172  </td><td>164.5</td><td>20.9 </td><td>47.4 </td><td>14.5 </td></tr>\n",
       "\t<tr><td>173  </td><td> 19.6</td><td>20.1 </td><td>17.0 </td><td> 7.6 </td></tr>\n",
       "\t<tr><td>174  </td><td>168.4</td><td> 7.1 </td><td>12.8 </td><td>11.7 </td></tr>\n",
       "\t<tr><td>175  </td><td>222.4</td><td> 3.4 </td><td>13.1 </td><td>11.5 </td></tr>\n",
       "\t<tr><td>176  </td><td>276.9</td><td>48.9 </td><td>41.8 </td><td>27.0 </td></tr>\n",
       "\t<tr><td>177  </td><td>248.4</td><td>30.2 </td><td>20.3 </td><td>20.2 </td></tr>\n",
       "\t<tr><td>178  </td><td>170.2</td><td> 7.8 </td><td>35.2 </td><td>11.7 </td></tr>\n",
       "\t<tr><td>179  </td><td>276.7</td><td> 2.3 </td><td>23.7 </td><td>11.8 </td></tr>\n",
       "\t<tr><td>180  </td><td>165.6</td><td>10.0 </td><td>17.6 </td><td>12.6 </td></tr>\n",
       "\t<tr><td>181  </td><td>156.6</td><td> 2.6 </td><td> 8.3 </td><td>10.5 </td></tr>\n",
       "\t<tr><td>182  </td><td>218.5</td><td> 5.4 </td><td>27.4 </td><td>12.2 </td></tr>\n",
       "\t<tr><td>183  </td><td> 56.2</td><td> 5.7 </td><td>29.7 </td><td> 8.7 </td></tr>\n",
       "\t<tr><td>184  </td><td>287.6</td><td>43.0 </td><td>71.8 </td><td>26.2 </td></tr>\n",
       "\t<tr><td>185  </td><td>253.8</td><td>21.3 </td><td>30.0 </td><td>17.6 </td></tr>\n",
       "\t<tr><td>186  </td><td>205.0</td><td>45.1 </td><td>19.6 </td><td>22.6 </td></tr>\n",
       "\t<tr><td>187  </td><td>139.5</td><td> 2.1 </td><td>26.6 </td><td>10.3 </td></tr>\n",
       "\t<tr><td>188  </td><td>191.1</td><td>28.7 </td><td>18.2 </td><td>17.3 </td></tr>\n",
       "\t<tr><td>189  </td><td>286.0</td><td>13.9 </td><td> 3.7 </td><td>15.9 </td></tr>\n",
       "\t<tr><td>190  </td><td> 18.7</td><td>12.1 </td><td>23.4 </td><td> 6.7 </td></tr>\n",
       "\t<tr><td>191  </td><td> 39.5</td><td>41.1 </td><td> 5.8 </td><td>10.8 </td></tr>\n",
       "\t<tr><td>192  </td><td> 75.5</td><td>10.8 </td><td> 6.0 </td><td> 9.9 </td></tr>\n",
       "\t<tr><td>193  </td><td> 17.2</td><td> 4.1 </td><td>31.6 </td><td> 5.9 </td></tr>\n",
       "\t<tr><td>194  </td><td>166.8</td><td>42.0 </td><td> 3.6 </td><td>19.6 </td></tr>\n",
       "\t<tr><td>195  </td><td>149.7</td><td>35.6 </td><td> 6.0 </td><td>17.3 </td></tr>\n",
       "\t<tr><td>196  </td><td> 38.2</td><td> 3.7 </td><td>13.8 </td><td> 7.6 </td></tr>\n",
       "\t<tr><td>197  </td><td> 94.2</td><td> 4.9 </td><td> 8.1 </td><td> 9.7 </td></tr>\n",
       "\t<tr><td>198  </td><td>177.0</td><td> 9.3 </td><td> 6.4 </td><td>12.8 </td></tr>\n",
       "\t<tr><td>199  </td><td>283.6</td><td>42.0 </td><td>66.2 </td><td>25.5 </td></tr>\n",
       "\t<tr><td>200  </td><td>232.1</td><td> 8.6 </td><td> 8.7 </td><td>13.4 </td></tr>\n",
       "</tbody>\n",
       "</table>\n"
      ],
      "text/latex": [
       "\\begin{tabular}{r|lllll}\n",
       " X & TV & radio & newspaper & sales\\\\\n",
       "\\hline\n",
       "\t  1    & 230.1 & 37.8  &  69.2 & 22.1 \\\\\n",
       "\t  2    &  44.5 & 39.3  &  45.1 & 10.4 \\\\\n",
       "\t  3    &  17.2 & 45.9  &  69.3 &  9.3 \\\\\n",
       "\t  4    & 151.5 & 41.3  &  58.5 & 18.5 \\\\\n",
       "\t  5    & 180.8 & 10.8  &  58.4 & 12.9 \\\\\n",
       "\t  6    &   8.7 & 48.9  &  75.0 &  7.2 \\\\\n",
       "\t  7    &  57.5 & 32.8  &  23.5 & 11.8 \\\\\n",
       "\t  8    & 120.2 & 19.6  &  11.6 & 13.2 \\\\\n",
       "\t  9    &   8.6 &  2.1  &   1.0 &  4.8 \\\\\n",
       "\t 10    & 199.8 &  2.6  &  21.2 & 10.6 \\\\\n",
       "\t 11    &  66.1 &  5.8  &  24.2 &  8.6 \\\\\n",
       "\t 12    & 214.7 & 24.0  &   4.0 & 17.4 \\\\\n",
       "\t 13    &  23.8 & 35.1  &  65.9 &  9.2 \\\\\n",
       "\t 14    &  97.5 &  7.6  &   7.2 &  9.7 \\\\\n",
       "\t 15    & 204.1 & 32.9  &  46.0 & 19.0 \\\\\n",
       "\t 16    & 195.4 & 47.7  &  52.9 & 22.4 \\\\\n",
       "\t 17    &  67.8 & 36.6  & 114.0 & 12.5 \\\\\n",
       "\t 18    & 281.4 & 39.6  &  55.8 & 24.4 \\\\\n",
       "\t 19    &  69.2 & 20.5  &  18.3 & 11.3 \\\\\n",
       "\t 20    & 147.3 & 23.9  &  19.1 & 14.6 \\\\\n",
       "\t 21    & 218.4 & 27.7  &  53.4 & 18.0 \\\\\n",
       "\t 22    & 237.4 &  5.1  &  23.5 & 12.5 \\\\\n",
       "\t 23    &  13.2 & 15.9  &  49.6 &  5.6 \\\\\n",
       "\t 24    & 228.3 & 16.9  &  26.2 & 15.5 \\\\\n",
       "\t 25    &  62.3 & 12.6  &  18.3 &  9.7 \\\\\n",
       "\t 26    & 262.9 &  3.5  &  19.5 & 12.0 \\\\\n",
       "\t 27    & 142.9 & 29.3  &  12.6 & 15.0 \\\\\n",
       "\t 28    & 240.1 & 16.7  &  22.9 & 15.9 \\\\\n",
       "\t 29    & 248.8 & 27.1  &  22.9 & 18.9 \\\\\n",
       "\t 30    &  70.6 & 16.0  &  40.8 & 10.5 \\\\\n",
       "\t ... & ... & ... & ... & ...\\\\\n",
       "\t 171   &  50.0 & 11.6  & 18.4  &  8.4 \\\\\n",
       "\t 172   & 164.5 & 20.9  & 47.4  & 14.5 \\\\\n",
       "\t 173   &  19.6 & 20.1  & 17.0  &  7.6 \\\\\n",
       "\t 174   & 168.4 &  7.1  & 12.8  & 11.7 \\\\\n",
       "\t 175   & 222.4 &  3.4  & 13.1  & 11.5 \\\\\n",
       "\t 176   & 276.9 & 48.9  & 41.8  & 27.0 \\\\\n",
       "\t 177   & 248.4 & 30.2  & 20.3  & 20.2 \\\\\n",
       "\t 178   & 170.2 &  7.8  & 35.2  & 11.7 \\\\\n",
       "\t 179   & 276.7 &  2.3  & 23.7  & 11.8 \\\\\n",
       "\t 180   & 165.6 & 10.0  & 17.6  & 12.6 \\\\\n",
       "\t 181   & 156.6 &  2.6  &  8.3  & 10.5 \\\\\n",
       "\t 182   & 218.5 &  5.4  & 27.4  & 12.2 \\\\\n",
       "\t 183   &  56.2 &  5.7  & 29.7  &  8.7 \\\\\n",
       "\t 184   & 287.6 & 43.0  & 71.8  & 26.2 \\\\\n",
       "\t 185   & 253.8 & 21.3  & 30.0  & 17.6 \\\\\n",
       "\t 186   & 205.0 & 45.1  & 19.6  & 22.6 \\\\\n",
       "\t 187   & 139.5 &  2.1  & 26.6  & 10.3 \\\\\n",
       "\t 188   & 191.1 & 28.7  & 18.2  & 17.3 \\\\\n",
       "\t 189   & 286.0 & 13.9  &  3.7  & 15.9 \\\\\n",
       "\t 190   &  18.7 & 12.1  & 23.4  &  6.7 \\\\\n",
       "\t 191   &  39.5 & 41.1  &  5.8  & 10.8 \\\\\n",
       "\t 192   &  75.5 & 10.8  &  6.0  &  9.9 \\\\\n",
       "\t 193   &  17.2 &  4.1  & 31.6  &  5.9 \\\\\n",
       "\t 194   & 166.8 & 42.0  &  3.6  & 19.6 \\\\\n",
       "\t 195   & 149.7 & 35.6  &  6.0  & 17.3 \\\\\n",
       "\t 196   &  38.2 &  3.7  & 13.8  &  7.6 \\\\\n",
       "\t 197   &  94.2 &  4.9  &  8.1  &  9.7 \\\\\n",
       "\t 198   & 177.0 &  9.3  &  6.4  & 12.8 \\\\\n",
       "\t 199   & 283.6 & 42.0  & 66.2  & 25.5 \\\\\n",
       "\t 200   & 232.1 &  8.6  &  8.7  & 13.4 \\\\\n",
       "\\end{tabular}\n"
      ],
      "text/markdown": [
       "\n",
       "| X | TV | radio | newspaper | sales |\n",
       "|---|---|---|---|---|\n",
       "|  1    | 230.1 | 37.8  |  69.2 | 22.1  |\n",
       "|  2    |  44.5 | 39.3  |  45.1 | 10.4  |\n",
       "|  3    |  17.2 | 45.9  |  69.3 |  9.3  |\n",
       "|  4    | 151.5 | 41.3  |  58.5 | 18.5  |\n",
       "|  5    | 180.8 | 10.8  |  58.4 | 12.9  |\n",
       "|  6    |   8.7 | 48.9  |  75.0 |  7.2  |\n",
       "|  7    |  57.5 | 32.8  |  23.5 | 11.8  |\n",
       "|  8    | 120.2 | 19.6  |  11.6 | 13.2  |\n",
       "|  9    |   8.6 |  2.1  |   1.0 |  4.8  |\n",
       "| 10    | 199.8 |  2.6  |  21.2 | 10.6  |\n",
       "| 11    |  66.1 |  5.8  |  24.2 |  8.6  |\n",
       "| 12    | 214.7 | 24.0  |   4.0 | 17.4  |\n",
       "| 13    |  23.8 | 35.1  |  65.9 |  9.2  |\n",
       "| 14    |  97.5 |  7.6  |   7.2 |  9.7  |\n",
       "| 15    | 204.1 | 32.9  |  46.0 | 19.0  |\n",
       "| 16    | 195.4 | 47.7  |  52.9 | 22.4  |\n",
       "| 17    |  67.8 | 36.6  | 114.0 | 12.5  |\n",
       "| 18    | 281.4 | 39.6  |  55.8 | 24.4  |\n",
       "| 19    |  69.2 | 20.5  |  18.3 | 11.3  |\n",
       "| 20    | 147.3 | 23.9  |  19.1 | 14.6  |\n",
       "| 21    | 218.4 | 27.7  |  53.4 | 18.0  |\n",
       "| 22    | 237.4 |  5.1  |  23.5 | 12.5  |\n",
       "| 23    |  13.2 | 15.9  |  49.6 |  5.6  |\n",
       "| 24    | 228.3 | 16.9  |  26.2 | 15.5  |\n",
       "| 25    |  62.3 | 12.6  |  18.3 |  9.7  |\n",
       "| 26    | 262.9 |  3.5  |  19.5 | 12.0  |\n",
       "| 27    | 142.9 | 29.3  |  12.6 | 15.0  |\n",
       "| 28    | 240.1 | 16.7  |  22.9 | 15.9  |\n",
       "| 29    | 248.8 | 27.1  |  22.9 | 18.9  |\n",
       "| 30    |  70.6 | 16.0  |  40.8 | 10.5  |\n",
       "| ... | ... | ... | ... | ... |\n",
       "| 171   |  50.0 | 11.6  | 18.4  |  8.4  |\n",
       "| 172   | 164.5 | 20.9  | 47.4  | 14.5  |\n",
       "| 173   |  19.6 | 20.1  | 17.0  |  7.6  |\n",
       "| 174   | 168.4 |  7.1  | 12.8  | 11.7  |\n",
       "| 175   | 222.4 |  3.4  | 13.1  | 11.5  |\n",
       "| 176   | 276.9 | 48.9  | 41.8  | 27.0  |\n",
       "| 177   | 248.4 | 30.2  | 20.3  | 20.2  |\n",
       "| 178   | 170.2 |  7.8  | 35.2  | 11.7  |\n",
       "| 179   | 276.7 |  2.3  | 23.7  | 11.8  |\n",
       "| 180   | 165.6 | 10.0  | 17.6  | 12.6  |\n",
       "| 181   | 156.6 |  2.6  |  8.3  | 10.5  |\n",
       "| 182   | 218.5 |  5.4  | 27.4  | 12.2  |\n",
       "| 183   |  56.2 |  5.7  | 29.7  |  8.7  |\n",
       "| 184   | 287.6 | 43.0  | 71.8  | 26.2  |\n",
       "| 185   | 253.8 | 21.3  | 30.0  | 17.6  |\n",
       "| 186   | 205.0 | 45.1  | 19.6  | 22.6  |\n",
       "| 187   | 139.5 |  2.1  | 26.6  | 10.3  |\n",
       "| 188   | 191.1 | 28.7  | 18.2  | 17.3  |\n",
       "| 189   | 286.0 | 13.9  |  3.7  | 15.9  |\n",
       "| 190   |  18.7 | 12.1  | 23.4  |  6.7  |\n",
       "| 191   |  39.5 | 41.1  |  5.8  | 10.8  |\n",
       "| 192   |  75.5 | 10.8  |  6.0  |  9.9  |\n",
       "| 193   |  17.2 |  4.1  | 31.6  |  5.9  |\n",
       "| 194   | 166.8 | 42.0  |  3.6  | 19.6  |\n",
       "| 195   | 149.7 | 35.6  |  6.0  | 17.3  |\n",
       "| 196   |  38.2 |  3.7  | 13.8  |  7.6  |\n",
       "| 197   |  94.2 |  4.9  |  8.1  |  9.7  |\n",
       "| 198   | 177.0 |  9.3  |  6.4  | 12.8  |\n",
       "| 199   | 283.6 | 42.0  | 66.2  | 25.5  |\n",
       "| 200   | 232.1 |  8.6  |  8.7  | 13.4  |\n",
       "\n"
      ],
      "text/plain": [
       "    X   TV    radio newspaper sales\n",
       "1    1  230.1 37.8   69.2     22.1 \n",
       "2    2   44.5 39.3   45.1     10.4 \n",
       "3    3   17.2 45.9   69.3      9.3 \n",
       "4    4  151.5 41.3   58.5     18.5 \n",
       "5    5  180.8 10.8   58.4     12.9 \n",
       "6    6    8.7 48.9   75.0      7.2 \n",
       "7    7   57.5 32.8   23.5     11.8 \n",
       "8    8  120.2 19.6   11.6     13.2 \n",
       "9    9    8.6  2.1    1.0      4.8 \n",
       "10  10  199.8  2.6   21.2     10.6 \n",
       "11  11   66.1  5.8   24.2      8.6 \n",
       "12  12  214.7 24.0    4.0     17.4 \n",
       "13  13   23.8 35.1   65.9      9.2 \n",
       "14  14   97.5  7.6    7.2      9.7 \n",
       "15  15  204.1 32.9   46.0     19.0 \n",
       "16  16  195.4 47.7   52.9     22.4 \n",
       "17  17   67.8 36.6  114.0     12.5 \n",
       "18  18  281.4 39.6   55.8     24.4 \n",
       "19  19   69.2 20.5   18.3     11.3 \n",
       "20  20  147.3 23.9   19.1     14.6 \n",
       "21  21  218.4 27.7   53.4     18.0 \n",
       "22  22  237.4  5.1   23.5     12.5 \n",
       "23  23   13.2 15.9   49.6      5.6 \n",
       "24  24  228.3 16.9   26.2     15.5 \n",
       "25  25   62.3 12.6   18.3      9.7 \n",
       "26  26  262.9  3.5   19.5     12.0 \n",
       "27  27  142.9 29.3   12.6     15.0 \n",
       "28  28  240.1 16.7   22.9     15.9 \n",
       "29  29  248.8 27.1   22.9     18.9 \n",
       "30  30   70.6 16.0   40.8     10.5 \n",
       "... ... ...   ...   ...       ...  \n",
       "171 171  50.0 11.6  18.4       8.4 \n",
       "172 172 164.5 20.9  47.4      14.5 \n",
       "173 173  19.6 20.1  17.0       7.6 \n",
       "174 174 168.4  7.1  12.8      11.7 \n",
       "175 175 222.4  3.4  13.1      11.5 \n",
       "176 176 276.9 48.9  41.8      27.0 \n",
       "177 177 248.4 30.2  20.3      20.2 \n",
       "178 178 170.2  7.8  35.2      11.7 \n",
       "179 179 276.7  2.3  23.7      11.8 \n",
       "180 180 165.6 10.0  17.6      12.6 \n",
       "181 181 156.6  2.6   8.3      10.5 \n",
       "182 182 218.5  5.4  27.4      12.2 \n",
       "183 183  56.2  5.7  29.7       8.7 \n",
       "184 184 287.6 43.0  71.8      26.2 \n",
       "185 185 253.8 21.3  30.0      17.6 \n",
       "186 186 205.0 45.1  19.6      22.6 \n",
       "187 187 139.5  2.1  26.6      10.3 \n",
       "188 188 191.1 28.7  18.2      17.3 \n",
       "189 189 286.0 13.9   3.7      15.9 \n",
       "190 190  18.7 12.1  23.4       6.7 \n",
       "191 191  39.5 41.1   5.8      10.8 \n",
       "192 192  75.5 10.8   6.0       9.9 \n",
       "193 193  17.2  4.1  31.6       5.9 \n",
       "194 194 166.8 42.0   3.6      19.6 \n",
       "195 195 149.7 35.6   6.0      17.3 \n",
       "196 196  38.2  3.7  13.8       7.6 \n",
       "197 197  94.2  4.9   8.1       9.7 \n",
       "198 198 177.0  9.3   6.4      12.8 \n",
       "199 199 283.6 42.0  66.2      25.5 \n",
       "200 200 232.1  8.6   8.7      13.4 "
      ]
     },
     "metadata": {},
     "output_type": "display_data"
    }
   ],
   "source": [
    "df = read.csv('Advertising.csv')\n",
    "df"
   ]
  },
  {
   "cell_type": "code",
   "execution_count": 6,
   "metadata": {},
   "outputs": [
    {
     "data": {
      "text/html": [
       "<table>\n",
       "<thead><tr><th scope=col>X</th><th scope=col>TV</th><th scope=col>radio</th><th scope=col>newspaper</th><th scope=col>sales</th></tr></thead>\n",
       "<tbody>\n",
       "\t<tr><td>1    </td><td>230.1</td><td>37.8 </td><td>69.2 </td><td>22.1 </td></tr>\n",
       "\t<tr><td>2    </td><td> 44.5</td><td>39.3 </td><td>45.1 </td><td>10.4 </td></tr>\n",
       "\t<tr><td>3    </td><td> 17.2</td><td>45.9 </td><td>69.3 </td><td> 9.3 </td></tr>\n",
       "\t<tr><td>4    </td><td>151.5</td><td>41.3 </td><td>58.5 </td><td>18.5 </td></tr>\n",
       "\t<tr><td>5    </td><td>180.8</td><td>10.8 </td><td>58.4 </td><td>12.9 </td></tr>\n",
       "\t<tr><td>6    </td><td>  8.7</td><td>48.9 </td><td>75.0 </td><td> 7.2 </td></tr>\n",
       "</tbody>\n",
       "</table>\n"
      ],
      "text/latex": [
       "\\begin{tabular}{r|lllll}\n",
       " X & TV & radio & newspaper & sales\\\\\n",
       "\\hline\n",
       "\t 1     & 230.1 & 37.8  & 69.2  & 22.1 \\\\\n",
       "\t 2     &  44.5 & 39.3  & 45.1  & 10.4 \\\\\n",
       "\t 3     &  17.2 & 45.9  & 69.3  &  9.3 \\\\\n",
       "\t 4     & 151.5 & 41.3  & 58.5  & 18.5 \\\\\n",
       "\t 5     & 180.8 & 10.8  & 58.4  & 12.9 \\\\\n",
       "\t 6     &   8.7 & 48.9  & 75.0  &  7.2 \\\\\n",
       "\\end{tabular}\n"
      ],
      "text/markdown": [
       "\n",
       "| X | TV | radio | newspaper | sales |\n",
       "|---|---|---|---|---|\n",
       "| 1     | 230.1 | 37.8  | 69.2  | 22.1  |\n",
       "| 2     |  44.5 | 39.3  | 45.1  | 10.4  |\n",
       "| 3     |  17.2 | 45.9  | 69.3  |  9.3  |\n",
       "| 4     | 151.5 | 41.3  | 58.5  | 18.5  |\n",
       "| 5     | 180.8 | 10.8  | 58.4  | 12.9  |\n",
       "| 6     |   8.7 | 48.9  | 75.0  |  7.2  |\n",
       "\n"
      ],
      "text/plain": [
       "  X TV    radio newspaper sales\n",
       "1 1 230.1 37.8  69.2      22.1 \n",
       "2 2  44.5 39.3  45.1      10.4 \n",
       "3 3  17.2 45.9  69.3       9.3 \n",
       "4 4 151.5 41.3  58.5      18.5 \n",
       "5 5 180.8 10.8  58.4      12.9 \n",
       "6 6   8.7 48.9  75.0       7.2 "
      ]
     },
     "metadata": {},
     "output_type": "display_data"
    }
   ],
   "source": [
    "head(df)"
   ]
  },
  {
   "cell_type": "code",
   "execution_count": 8,
   "metadata": {},
   "outputs": [
    {
     "data": {
      "image/png": "[encoded data removed]",
      "text/plain": [
       "plot without title"
      ]
     },
     "metadata": {},
     "output_type": "display_data"
    }
   ],
   "source": [
    "plot(df $ TV, df $ sales, ylab='sales', xlab='TV', col='red')\n",
    "abline(lm(sales ~ TV, df), col = 'blue')"
   ]
  },
  {
   "cell_type": "code",
   "execution_count": 12,
   "metadata": {},
   "outputs": [
    {
     "data": {
      "image/png": "[encoded data removed]",
      "text/plain": [
       "plot without title"
      ]
     },
     "metadata": {},
     "output_type": "display_data"
    }
   ],
   "source": [
    "plot(df $ radio, df $ sales, ylab='sales', xlab='radio', col='red')\n",
    "abline(lm(sales ~ radio, df), col = 'blue')"
   ]
  },
  {
   "cell_type": "code",
   "execution_count": 11,
   "metadata": {},
   "outputs": [
    {
     "data": {
      "image/png": "[encoded data removed]",
      "text/plain": [
       "plot without title"
      ]
     },
     "metadata": {},
     "output_type": "display_data"
    }
   ],
   "source": [
    "plot(df $ newspaper, df $ sales, ylab='sales', xlab='newspaper', col='red')\n",
    "abline(lm(sales ~ newspaper, df), col = 'blue')"
   ]
  },
  {
   "cell_type": "code",
   "execution_count": 15,
   "metadata": {},
   "outputs": [
    {
     "name": "stdout",
     "output_type": "stream",
     "text": [
      "package 'MASS' successfully unpacked and MD5 sums checked\n",
      "\n",
      "The downloaded binary packages are in\n",
      "\tC:\\Users\\yangs\\AppData\\Local\\Temp\\RtmpmaLUNJ\\downloaded_packages\n"
     ]
    }
   ],
   "source": [
    "install.packages('MASS')"
   ]
  },
  {
   "cell_type": "code",
   "execution_count": 17,
   "metadata": {},
   "outputs": [],
   "source": [
    "library(MASS)"
   ]
  },
  {
   "cell_type": "code",
   "execution_count": 71,
   "metadata": {},
   "outputs": [
    {
     "data": {
      "text/html": [
       "<ol class=list-inline>\n",
       "\t<li>'coefficients'</li>\n",
       "\t<li>'residuals'</li>\n",
       "\t<li>'effects'</li>\n",
       "\t<li>'rank'</li>\n",
       "\t<li>'fitted.values'</li>\n",
       "\t<li>'assign'</li>\n",
       "\t<li>'qr'</li>\n",
       "\t<li>'df.residual'</li>\n",
       "\t<li>'xlevels'</li>\n",
       "\t<li>'call'</li>\n",
       "\t<li>'terms'</li>\n",
       "\t<li>'model'</li>\n",
       "</ol>\n"
      ],
      "text/latex": [
       "\\begin{enumerate*}\n",
       "\\item 'coefficients'\n",
       "\\item 'residuals'\n",
       "\\item 'effects'\n",
       "\\item 'rank'\n",
       "\\item 'fitted.values'\n",
       "\\item 'assign'\n",
       "\\item 'qr'\n",
       "\\item 'df.residual'\n",
       "\\item 'xlevels'\n",
       "\\item 'call'\n",
       "\\item 'terms'\n",
       "\\item 'model'\n",
       "\\end{enumerate*}\n"
      ],
      "text/markdown": [
       "1. 'coefficients'\n",
       "2. 'residuals'\n",
       "3. 'effects'\n",
       "4. 'rank'\n",
       "5. 'fitted.values'\n",
       "6. 'assign'\n",
       "7. 'qr'\n",
       "8. 'df.residual'\n",
       "9. 'xlevels'\n",
       "10. 'call'\n",
       "11. 'terms'\n",
       "12. 'model'\n",
       "\n",
       "\n"
      ],
      "text/plain": [
       " [1] \"coefficients\"  \"residuals\"     \"effects\"       \"rank\"         \n",
       " [5] \"fitted.values\" \"assign\"        \"qr\"            \"df.residual\"  \n",
       " [9] \"xlevels\"       \"call\"          \"terms\"         \"model\"        "
      ]
     },
     "metadata": {},
     "output_type": "display_data"
    }
   ],
   "source": [
    "names(lm(Boston $ medv ~ Boston $ lstat))"
   ]
  },
  {
   "cell_type": "code",
   "execution_count": 73,
   "metadata": {},
   "outputs": [
    {
     "data": {
      "text/html": [
       "<table>\n",
       "<tbody>\n",
       "\t<tr><th scope=row></th><td>-0.9500494</td></tr>\n",
       "\t<tr><th scope=row>intercept</th><td>34.5538409</td></tr>\n",
       "</tbody>\n",
       "</table>\n"
      ],
      "text/latex": [
       "\\begin{tabular}{r|l}\n",
       "\t & -0.9500494\\\\\n",
       "\tintercept & 34.5538409\\\\\n",
       "\\end{tabular}\n"
      ],
      "text/markdown": [
       "\n",
       "|  | -0.9500494 |\n",
       "| intercept | 34.5538409 |\n",
       "\n"
      ],
      "text/plain": [
       "          [,1]      \n",
       "          -0.9500494\n",
       "intercept 34.5538409"
      ]
     },
     "metadata": {},
     "output_type": "display_data"
    },
    {
     "name": "stdout",
     "output_type": "stream",
     "text": [
      "[1] \"var x:  50.9947595088639 50.9947595088639\"\n",
      "[1] \"var y:  84.5867235940985 84.5867235940985\"\n",
      "[1] \"slope:  -0.950049353757991\"\n",
      "[1] \"intercept:  34.5538408793831\"\n"
     ]
    }
   ],
   "source": [
    "my_lm <- function(explanatory_matrix, response_vec) {\n",
    "  exp_mat <- as.matrix(explanatory_matrix)\n",
    "  intercept <- rep(1, nrow(exp_mat))\n",
    "  exp_mat <- cbind(exp_mat, intercept)\n",
    "  solve(t(exp_mat) %*% exp_mat) %*% (t(exp_mat) %*% response_vec)\n",
    "}\n",
    "\n",
    "my_slope <- function(x, y) {\n",
    "    x_bar <- mean(x)\n",
    "    y_bar <- mean(y)\n",
    "    my_varx <- sum((x-x_bar)^2)/(length(x)-1)\n",
    "    print(paste(\"var x: \", var(x), my_varx))\n",
    "    my_vary <- sum((y-y_bar)^2)/(length(y)-1)\n",
    "    print(paste(\"var y: \", var(y), my_vary))\n",
    "    my_numerator <- sum((x-x_bar) * (y - y_bar))\n",
    "    my_nominator <- sum((x-x_bar)^2)\n",
    "    slope <- my_numerator / my_nominator \n",
    "    intercept <- y_bar - slope * x_bar\n",
    "    print(paste(\"slope: \", slope))\n",
    "    print(paste(\"intercept: \", intercept))\n",
    "}\n",
    "\n",
    "\n",
    "my_lm(Boston $ lstat, Boston $ medv)\n",
    "\n",
    "my_slope(Boston $ lstat, Boston $ medv)"
   ]
  },
  {
   "cell_type": "code",
   "execution_count": 74,
   "metadata": {},
   "outputs": [
    {
     "data": {
      "image/png": "[encoded data removed]",
      "text/plain": [
       "plot without title"
      ]
     },
     "metadata": {},
     "output_type": "display_data"
    }
   ],
   "source": [
    "plot(Boston $ medv ~ Boston $ lstat)\n",
    "abline(lm(medv~lstat, data=Boston), col = 'blue')\n",
    "abline(my_lm(Boston $ lstat, Boston $ medv)[2], my_lm(Boston $ lstat, Boston $ medv)[1], col='red')"
   ]
  },
  {
   "cell_type": "code",
   "execution_count": null,
   "metadata": {},
   "outputs": [],
   "source": [
    "# This is my code to calculate beta_0 and beta_ without the lm()-function\n",
    "\n",
    "\n",
    "\n",
    "my_slope <- function(x,y) {\n",
    "\n",
    "#\n",
    "\n",
    "# first calculate beta_1\n",
    "\n",
    "# takes the list of x and the list of y values\n",
    "\n",
    "#\n",
    "\n",
    " x_bar <- mean(x)\n",
    "\n",
    " y_bar <- mean(y)\n",
    "\n",
    " my_varx <- sum((x-x_bar)^2)/(length(x)-1)\n",
    "\n",
    " print(paste(\"var x: \", var(x), my_varx))\n",
    "\n",
    " my_vary <- sum((y-y_bar)^2)/(length(y)-1)\n",
    "\n",
    " print(paste(\"var y: \", var(y), my_vary))\n",
    "\n",
    " my_numerator <- sum((x-x_bar)*(y-y_bar))\n",
    "\n",
    " my_nominator <- sum((x-x_bar)^2)\n",
    "\n",
    " print(paste(\"slope: \", my_numerator / my_nominator))\n",
    "\n",
    "}\n",
    "\n",
    "\n",
    "\n",
    "\n",
    "\n",
    "my_intercept <- function(x,y,slope) {\n",
    "\n",
    "#\n",
    "\n",
    "# now calculate beta_0\n",
    "\n",
    "# takes the list of x and the list of y values\n",
    "\n",
    "# take the slope manually: insert here the output from my_slope()\n",
    "\n",
    "#\n",
    "\n",
    " x_bar <- mean(x)\n",
    "\n",
    " y_bar <- mean(y)\n",
    "\n",
    " print(paste(\"intercept: \", y_bar - x_bar*slope))\n",
    "\n",
    "}\n",
    "\n",
    "\n",
    "\n",
    "# now apply it on data\n",
    "\n",
    "library(MASS)\n",
    "\n",
    "my_slope(Boston$rm,Boston$medv)\n",
    "\n",
    "my_intercept(Boston$rm,Boston$medv,9.10210898118031)\n",
    "\n",
    "\n",
    "\n",
    "# compare to lm()\n",
    "\n",
    "lm(medv ~ rm, Boston)"
   ]
  }
 ],
 "metadata": {
  "kernelspec": {
   "display_name": "R",
   "language": "R",
   "name": "ir"
  },
  "language_info": {
   "codemirror_mode": "r",
   "file_extension": ".r",
   "mimetype": "text/x-r-source",
   "name": "R",
   "pygments_lexer": "r",
   "version": "3.6.1"
  }
 },
 "nbformat": 4,
 "nbformat_minor": 4
}
