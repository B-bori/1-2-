{
 "cells": [
  {
   "cell_type": "code",
   "execution_count": 18,
   "metadata": {},
   "outputs": [],
   "source": [
    "library(ISLR)"
   ]
  },
  {
   "cell_type": "code",
   "execution_count": 19,
   "metadata": {},
   "outputs": [],
   "source": [
    "?Default"
   ]
  },
  {
   "cell_type": "code",
   "execution_count": 20,
   "metadata": {},
   "outputs": [
    {
     "data": {
      "text/html": [
       "<table>\n",
       "<thead><tr><th scope=col>default</th><th scope=col>student</th><th scope=col>balance</th><th scope=col>income</th></tr></thead>\n",
       "<tbody>\n",
       "\t<tr><td>No       </td><td>No       </td><td> 729.5265</td><td>44361.625</td></tr>\n",
       "\t<tr><td>No       </td><td>Yes      </td><td> 817.1804</td><td>12106.135</td></tr>\n",
       "\t<tr><td>No       </td><td>No       </td><td>1073.5492</td><td>31767.139</td></tr>\n",
       "\t<tr><td>No       </td><td>No       </td><td> 529.2506</td><td>35704.494</td></tr>\n",
       "\t<tr><td>No       </td><td>No       </td><td> 785.6559</td><td>38463.496</td></tr>\n",
       "\t<tr><td>No       </td><td>Yes      </td><td> 919.5885</td><td> 7491.559</td></tr>\n",
       "\t<tr><td>No       </td><td>No       </td><td> 825.5133</td><td>24905.227</td></tr>\n",
       "\t<tr><td>No       </td><td>Yes      </td><td> 808.6675</td><td>17600.451</td></tr>\n",
       "\t<tr><td>No       </td><td>No       </td><td>1161.0579</td><td>37468.529</td></tr>\n",
       "\t<tr><td>No       </td><td>No       </td><td>   0.0000</td><td>29275.268</td></tr>\n",
       "\t<tr><td>No       </td><td>Yes      </td><td>   0.0000</td><td>21871.073</td></tr>\n",
       "\t<tr><td>No       </td><td>Yes      </td><td>1220.5838</td><td>13268.562</td></tr>\n",
       "\t<tr><td>No       </td><td>No       </td><td> 237.0451</td><td>28251.695</td></tr>\n",
       "\t<tr><td>No       </td><td>No       </td><td> 606.7423</td><td>44994.556</td></tr>\n",
       "\t<tr><td>No       </td><td>No       </td><td>1112.9684</td><td>23810.174</td></tr>\n",
       "\t<tr><td>No       </td><td>No       </td><td> 286.2326</td><td>45042.413</td></tr>\n",
       "\t<tr><td>No       </td><td>No       </td><td>   0.0000</td><td>50265.312</td></tr>\n",
       "\t<tr><td>No       </td><td>Yes      </td><td> 527.5402</td><td>17636.540</td></tr>\n",
       "\t<tr><td>No       </td><td>No       </td><td> 485.9369</td><td>61566.106</td></tr>\n",
       "\t<tr><td>No       </td><td>No       </td><td>1095.0727</td><td>26464.631</td></tr>\n",
       "\t<tr><td>No       </td><td>No       </td><td> 228.9525</td><td>50500.182</td></tr>\n",
       "\t<tr><td>No       </td><td>No       </td><td> 954.2618</td><td>32457.509</td></tr>\n",
       "\t<tr><td>No       </td><td>No       </td><td>1055.9566</td><td>51317.883</td></tr>\n",
       "\t<tr><td>No       </td><td>No       </td><td> 641.9844</td><td>30466.103</td></tr>\n",
       "\t<tr><td>No       </td><td>No       </td><td> 773.2117</td><td>34353.314</td></tr>\n",
       "\t<tr><td>No       </td><td>No       </td><td> 855.0085</td><td>25211.332</td></tr>\n",
       "\t<tr><td>No       </td><td>No       </td><td> 642.9997</td><td>41473.512</td></tr>\n",
       "\t<tr><td>No       </td><td>No       </td><td>1454.8633</td><td>32189.095</td></tr>\n",
       "\t<tr><td>No       </td><td>No       </td><td> 615.7043</td><td>39376.395</td></tr>\n",
       "\t<tr><td>No       </td><td>Yes      </td><td>1119.5694</td><td>16556.070</td></tr>\n",
       "\t<tr><td>...</td><td>...</td><td>...</td><td>...</td></tr>\n",
       "\t<tr><td>No       </td><td>Yes      </td><td>1294.5004</td><td>25687.33 </td></tr>\n",
       "\t<tr><td>No       </td><td>Yes      </td><td> 180.6201</td><td>20975.56 </td></tr>\n",
       "\t<tr><td>No       </td><td>No       </td><td> 755.4328</td><td>14455.87 </td></tr>\n",
       "\t<tr><td>No       </td><td>No       </td><td> 876.1190</td><td>37668.37 </td></tr>\n",
       "\t<tr><td>No       </td><td>Yes      </td><td> 933.3320</td><td>26051.40 </td></tr>\n",
       "\t<tr><td>No       </td><td>No       </td><td> 908.3159</td><td>21287.94 </td></tr>\n",
       "\t<tr><td>No       </td><td>No       </td><td> 218.4176</td><td>25401.13 </td></tr>\n",
       "\t<tr><td>No       </td><td>Yes      </td><td> 915.4398</td><td>16624.34 </td></tr>\n",
       "\t<tr><td>Yes      </td><td>No       </td><td>2202.4624</td><td>47287.26 </td></tr>\n",
       "\t<tr><td>No       </td><td>No       </td><td> 173.2492</td><td>30697.25 </td></tr>\n",
       "\t<tr><td>No       </td><td>Yes      </td><td> 770.0157</td><td>13684.79 </td></tr>\n",
       "\t<tr><td>No       </td><td>No       </td><td> 739.4180</td><td>40656.95 </td></tr>\n",
       "\t<tr><td>No       </td><td>No       </td><td> 623.5261</td><td>59441.31 </td></tr>\n",
       "\t<tr><td>No       </td><td>No       </td><td> 506.6255</td><td>49861.00 </td></tr>\n",
       "\t<tr><td>No       </td><td>No       </td><td> 875.2416</td><td>52861.74 </td></tr>\n",
       "\t<tr><td>No       </td><td>No       </td><td> 842.9494</td><td>39957.13 </td></tr>\n",
       "\t<tr><td>No       </td><td>Yes      </td><td> 401.3327</td><td>15332.02 </td></tr>\n",
       "\t<tr><td>No       </td><td>No       </td><td>1092.9066</td><td>45479.47 </td></tr>\n",
       "\t<tr><td>No       </td><td>No       </td><td>   0.0000</td><td>41740.69 </td></tr>\n",
       "\t<tr><td>No       </td><td>Yes      </td><td> 999.2811</td><td>20013.35 </td></tr>\n",
       "\t<tr><td>No       </td><td>No       </td><td> 372.3792</td><td>25374.90 </td></tr>\n",
       "\t<tr><td>No       </td><td>No       </td><td> 658.7996</td><td>54802.08 </td></tr>\n",
       "\t<tr><td>No       </td><td>No       </td><td>1111.6473</td><td>45490.68 </td></tr>\n",
       "\t<tr><td>No       </td><td>No       </td><td> 938.8362</td><td>56633.45 </td></tr>\n",
       "\t<tr><td>No       </td><td>Yes      </td><td> 172.4130</td><td>14955.94 </td></tr>\n",
       "\t<tr><td>No       </td><td>No       </td><td> 711.5550</td><td>52992.38 </td></tr>\n",
       "\t<tr><td>No       </td><td>No       </td><td> 757.9629</td><td>19660.72 </td></tr>\n",
       "\t<tr><td>No       </td><td>No       </td><td> 845.4120</td><td>58636.16 </td></tr>\n",
       "\t<tr><td>No       </td><td>No       </td><td>1569.0091</td><td>36669.11 </td></tr>\n",
       "\t<tr><td>No       </td><td>Yes      </td><td> 200.9222</td><td>16862.95 </td></tr>\n",
       "</tbody>\n",
       "</table>\n"
      ],
      "text/latex": [
       "\\begin{tabular}{r|llll}\n",
       " default & student & balance & income\\\\\n",
       "\\hline\n",
       "\t No        & No        &  729.5265 & 44361.625\\\\\n",
       "\t No        & Yes       &  817.1804 & 12106.135\\\\\n",
       "\t No        & No        & 1073.5492 & 31767.139\\\\\n",
       "\t No        & No        &  529.2506 & 35704.494\\\\\n",
       "\t No        & No        &  785.6559 & 38463.496\\\\\n",
       "\t No        & Yes       &  919.5885 &  7491.559\\\\\n",
       "\t No        & No        &  825.5133 & 24905.227\\\\\n",
       "\t No        & Yes       &  808.6675 & 17600.451\\\\\n",
       "\t No        & No        & 1161.0579 & 37468.529\\\\\n",
       "\t No        & No        &    0.0000 & 29275.268\\\\\n",
       "\t No        & Yes       &    0.0000 & 21871.073\\\\\n",
       "\t No        & Yes       & 1220.5838 & 13268.562\\\\\n",
       "\t No        & No        &  237.0451 & 28251.695\\\\\n",
       "\t No        & No        &  606.7423 & 44994.556\\\\\n",
       "\t No        & No        & 1112.9684 & 23810.174\\\\\n",
       "\t No        & No        &  286.2326 & 45042.413\\\\\n",
       "\t No        & No        &    0.0000 & 50265.312\\\\\n",
       "\t No        & Yes       &  527.5402 & 17636.540\\\\\n",
       "\t No        & No        &  485.9369 & 61566.106\\\\\n",
       "\t No        & No        & 1095.0727 & 26464.631\\\\\n",
       "\t No        & No        &  228.9525 & 50500.182\\\\\n",
       "\t No        & No        &  954.2618 & 32457.509\\\\\n",
       "\t No        & No        & 1055.9566 & 51317.883\\\\\n",
       "\t No        & No        &  641.9844 & 30466.103\\\\\n",
       "\t No        & No        &  773.2117 & 34353.314\\\\\n",
       "\t No        & No        &  855.0085 & 25211.332\\\\\n",
       "\t No        & No        &  642.9997 & 41473.512\\\\\n",
       "\t No        & No        & 1454.8633 & 32189.095\\\\\n",
       "\t No        & No        &  615.7043 & 39376.395\\\\\n",
       "\t No        & Yes       & 1119.5694 & 16556.070\\\\\n",
       "\t ... & ... & ... & ...\\\\\n",
       "\t No        & Yes       & 1294.5004 & 25687.33 \\\\\n",
       "\t No        & Yes       &  180.6201 & 20975.56 \\\\\n",
       "\t No        & No        &  755.4328 & 14455.87 \\\\\n",
       "\t No        & No        &  876.1190 & 37668.37 \\\\\n",
       "\t No        & Yes       &  933.3320 & 26051.40 \\\\\n",
       "\t No        & No        &  908.3159 & 21287.94 \\\\\n",
       "\t No        & No        &  218.4176 & 25401.13 \\\\\n",
       "\t No        & Yes       &  915.4398 & 16624.34 \\\\\n",
       "\t Yes       & No        & 2202.4624 & 47287.26 \\\\\n",
       "\t No        & No        &  173.2492 & 30697.25 \\\\\n",
       "\t No        & Yes       &  770.0157 & 13684.79 \\\\\n",
       "\t No        & No        &  739.4180 & 40656.95 \\\\\n",
       "\t No        & No        &  623.5261 & 59441.31 \\\\\n",
       "\t No        & No        &  506.6255 & 49861.00 \\\\\n",
       "\t No        & No        &  875.2416 & 52861.74 \\\\\n",
       "\t No        & No        &  842.9494 & 39957.13 \\\\\n",
       "\t No        & Yes       &  401.3327 & 15332.02 \\\\\n",
       "\t No        & No        & 1092.9066 & 45479.47 \\\\\n",
       "\t No        & No        &    0.0000 & 41740.69 \\\\\n",
       "\t No        & Yes       &  999.2811 & 20013.35 \\\\\n",
       "\t No        & No        &  372.3792 & 25374.90 \\\\\n",
       "\t No        & No        &  658.7996 & 54802.08 \\\\\n",
       "\t No        & No        & 1111.6473 & 45490.68 \\\\\n",
       "\t No        & No        &  938.8362 & 56633.45 \\\\\n",
       "\t No        & Yes       &  172.4130 & 14955.94 \\\\\n",
       "\t No        & No        &  711.5550 & 52992.38 \\\\\n",
       "\t No        & No        &  757.9629 & 19660.72 \\\\\n",
       "\t No        & No        &  845.4120 & 58636.16 \\\\\n",
       "\t No        & No        & 1569.0091 & 36669.11 \\\\\n",
       "\t No        & Yes       &  200.9222 & 16862.95 \\\\\n",
       "\\end{tabular}\n"
      ],
      "text/markdown": [
       "\n",
       "| default | student | balance | income |\n",
       "|---|---|---|---|\n",
       "| No        | No        |  729.5265 | 44361.625 |\n",
       "| No        | Yes       |  817.1804 | 12106.135 |\n",
       "| No        | No        | 1073.5492 | 31767.139 |\n",
       "| No        | No        |  529.2506 | 35704.494 |\n",
       "| No        | No        |  785.6559 | 38463.496 |\n",
       "| No        | Yes       |  919.5885 |  7491.559 |\n",
       "| No        | No        |  825.5133 | 24905.227 |\n",
       "| No        | Yes       |  808.6675 | 17600.451 |\n",
       "| No        | No        | 1161.0579 | 37468.529 |\n",
       "| No        | No        |    0.0000 | 29275.268 |\n",
       "| No        | Yes       |    0.0000 | 21871.073 |\n",
       "| No        | Yes       | 1220.5838 | 13268.562 |\n",
       "| No        | No        |  237.0451 | 28251.695 |\n",
       "| No        | No        |  606.7423 | 44994.556 |\n",
       "| No        | No        | 1112.9684 | 23810.174 |\n",
       "| No        | No        |  286.2326 | 45042.413 |\n",
       "| No        | No        |    0.0000 | 50265.312 |\n",
       "| No        | Yes       |  527.5402 | 17636.540 |\n",
       "| No        | No        |  485.9369 | 61566.106 |\n",
       "| No        | No        | 1095.0727 | 26464.631 |\n",
       "| No        | No        |  228.9525 | 50500.182 |\n",
       "| No        | No        |  954.2618 | 32457.509 |\n",
       "| No        | No        | 1055.9566 | 51317.883 |\n",
       "| No        | No        |  641.9844 | 30466.103 |\n",
       "| No        | No        |  773.2117 | 34353.314 |\n",
       "| No        | No        |  855.0085 | 25211.332 |\n",
       "| No        | No        |  642.9997 | 41473.512 |\n",
       "| No        | No        | 1454.8633 | 32189.095 |\n",
       "| No        | No        |  615.7043 | 39376.395 |\n",
       "| No        | Yes       | 1119.5694 | 16556.070 |\n",
       "| ... | ... | ... | ... |\n",
       "| No        | Yes       | 1294.5004 | 25687.33  |\n",
       "| No        | Yes       |  180.6201 | 20975.56  |\n",
       "| No        | No        |  755.4328 | 14455.87  |\n",
       "| No        | No        |  876.1190 | 37668.37  |\n",
       "| No        | Yes       |  933.3320 | 26051.40  |\n",
       "| No        | No        |  908.3159 | 21287.94  |\n",
       "| No        | No        |  218.4176 | 25401.13  |\n",
       "| No        | Yes       |  915.4398 | 16624.34  |\n",
       "| Yes       | No        | 2202.4624 | 47287.26  |\n",
       "| No        | No        |  173.2492 | 30697.25  |\n",
       "| No        | Yes       |  770.0157 | 13684.79  |\n",
       "| No        | No        |  739.4180 | 40656.95  |\n",
       "| No        | No        |  623.5261 | 59441.31  |\n",
       "| No        | No        |  506.6255 | 49861.00  |\n",
       "| No        | No        |  875.2416 | 52861.74  |\n",
       "| No        | No        |  842.9494 | 39957.13  |\n",
       "| No        | Yes       |  401.3327 | 15332.02  |\n",
       "| No        | No        | 1092.9066 | 45479.47  |\n",
       "| No        | No        |    0.0000 | 41740.69  |\n",
       "| No        | Yes       |  999.2811 | 20013.35  |\n",
       "| No        | No        |  372.3792 | 25374.90  |\n",
       "| No        | No        |  658.7996 | 54802.08  |\n",
       "| No        | No        | 1111.6473 | 45490.68  |\n",
       "| No        | No        |  938.8362 | 56633.45  |\n",
       "| No        | Yes       |  172.4130 | 14955.94  |\n",
       "| No        | No        |  711.5550 | 52992.38  |\n",
       "| No        | No        |  757.9629 | 19660.72  |\n",
       "| No        | No        |  845.4120 | 58636.16  |\n",
       "| No        | No        | 1569.0091 | 36669.11  |\n",
       "| No        | Yes       |  200.9222 | 16862.95  |\n",
       "\n"
      ],
      "text/plain": [
       "      default student balance   income   \n",
       "1     No      No       729.5265 44361.625\n",
       "2     No      Yes      817.1804 12106.135\n",
       "3     No      No      1073.5492 31767.139\n",
       "4     No      No       529.2506 35704.494\n",
       "5     No      No       785.6559 38463.496\n",
       "6     No      Yes      919.5885  7491.559\n",
       "7     No      No       825.5133 24905.227\n",
       "8     No      Yes      808.6675 17600.451\n",
       "9     No      No      1161.0579 37468.529\n",
       "10    No      No         0.0000 29275.268\n",
       "11    No      Yes        0.0000 21871.073\n",
       "12    No      Yes     1220.5838 13268.562\n",
       "13    No      No       237.0451 28251.695\n",
       "14    No      No       606.7423 44994.556\n",
       "15    No      No      1112.9684 23810.174\n",
       "16    No      No       286.2326 45042.413\n",
       "17    No      No         0.0000 50265.312\n",
       "18    No      Yes      527.5402 17636.540\n",
       "19    No      No       485.9369 61566.106\n",
       "20    No      No      1095.0727 26464.631\n",
       "21    No      No       228.9525 50500.182\n",
       "22    No      No       954.2618 32457.509\n",
       "23    No      No      1055.9566 51317.883\n",
       "24    No      No       641.9844 30466.103\n",
       "25    No      No       773.2117 34353.314\n",
       "26    No      No       855.0085 25211.332\n",
       "27    No      No       642.9997 41473.512\n",
       "28    No      No      1454.8633 32189.095\n",
       "29    No      No       615.7043 39376.395\n",
       "30    No      Yes     1119.5694 16556.070\n",
       "...   ...     ...     ...       ...      \n",
       "9971  No      Yes     1294.5004 25687.33 \n",
       "9972  No      Yes      180.6201 20975.56 \n",
       "9973  No      No       755.4328 14455.87 \n",
       "9974  No      No       876.1190 37668.37 \n",
       "9975  No      Yes      933.3320 26051.40 \n",
       "9976  No      No       908.3159 21287.94 \n",
       "9977  No      No       218.4176 25401.13 \n",
       "9978  No      Yes      915.4398 16624.34 \n",
       "9979  Yes     No      2202.4624 47287.26 \n",
       "9980  No      No       173.2492 30697.25 \n",
       "9981  No      Yes      770.0157 13684.79 \n",
       "9982  No      No       739.4180 40656.95 \n",
       "9983  No      No       623.5261 59441.31 \n",
       "9984  No      No       506.6255 49861.00 \n",
       "9985  No      No       875.2416 52861.74 \n",
       "9986  No      No       842.9494 39957.13 \n",
       "9987  No      Yes      401.3327 15332.02 \n",
       "9988  No      No      1092.9066 45479.47 \n",
       "9989  No      No         0.0000 41740.69 \n",
       "9990  No      Yes      999.2811 20013.35 \n",
       "9991  No      No       372.3792 25374.90 \n",
       "9992  No      No       658.7996 54802.08 \n",
       "9993  No      No      1111.6473 45490.68 \n",
       "9994  No      No       938.8362 56633.45 \n",
       "9995  No      Yes      172.4130 14955.94 \n",
       "9996  No      No       711.5550 52992.38 \n",
       "9997  No      No       757.9629 19660.72 \n",
       "9998  No      No       845.4120 58636.16 \n",
       "9999  No      No      1569.0091 36669.11 \n",
       "10000 No      Yes      200.9222 16862.95 "
      ]
     },
     "metadata": {},
     "output_type": "display_data"
    }
   ],
   "source": [
    "# default: 채무 불이행 참/거짓\n",
    "# balance: 은행 잔액\n",
    "\n",
    "Default"
   ]
  },
  {
   "cell_type": "code",
   "execution_count": 21,
   "metadata": {},
   "outputs": [
    {
     "data": {
      "image/png": "[encoded data removed]",
      "text/plain": [
       "plot without title"
      ]
     },
     "metadata": {},
     "output_type": "display_data"
    }
   ],
   "source": [
    "plot(balance ~ income, Default)"
   ]
  },
  {
   "cell_type": "code",
   "execution_count": 22,
   "metadata": {},
   "outputs": [
    {
     "data": {
      "image/png": "[encoded data removed]",
      "text/plain": [
       "plot without title"
      ]
     },
     "metadata": {},
     "output_type": "display_data"
    }
   ],
   "source": [
    "tmp <- subset(Default, balance !=0)\n",
    "plot(balance ~ income, tmp)"
   ]
  },
  {
   "cell_type": "code",
   "execution_count": 23,
   "metadata": {},
   "outputs": [
    {
     "data": {
      "image/png": "[encoded data removed]",
      "text/plain": [
       "plot without title"
      ]
     },
     "metadata": {},
     "output_type": "display_data"
    }
   ],
   "source": [
    "plot(balance ~ default, tmp)"
   ]
  },
  {
   "cell_type": "code",
   "execution_count": 24,
   "metadata": {},
   "outputs": [
    {
     "data": {
      "image/png": "[encoded data removed]",
      "text/plain": [
       "plot without title"
      ]
     },
     "metadata": {},
     "output_type": "display_data"
    }
   ],
   "source": [
    "plot(income ~ default, tmp)"
   ]
  },
  {
   "cell_type": "code",
   "execution_count": 25,
   "metadata": {},
   "outputs": [
    {
     "data": {
      "image/png": "[encoded data removed]",
      "text/plain": [
       "plot without title"
      ]
     },
     "metadata": {},
     "output_type": "display_data"
    }
   ],
   "source": [
    "plot(tmp $ balance, as.numeric(tmp $ default)-1, ylim = c(-0.3, 1.3))\n",
    "abline(.5, 0, col = 'red')\n",
    "abline(lm(I(as.numeric(default)-1) ~ balance, tmp), col = 'blue')"
   ]
  },
  {
   "cell_type": "markdown",
   "metadata": {},
   "source": [
    "# Exercise"
   ]
  },
  {
   "cell_type": "code",
   "execution_count": 26,
   "metadata": {},
   "outputs": [
    {
     "data": {
      "text/html": [
       "<table>\n",
       "<thead><tr><th scope=col>Year</th><th scope=col>Lag1</th><th scope=col>Lag2</th><th scope=col>Lag3</th><th scope=col>Lag4</th><th scope=col>Lag5</th><th scope=col>Volume</th><th scope=col>Today</th><th scope=col>Direction</th></tr></thead>\n",
       "<tbody>\n",
       "\t<tr><td>2001  </td><td> 0.381</td><td>-0.192</td><td>-2.624</td><td>-1.055</td><td> 5.010</td><td>1.1913</td><td> 0.959</td><td>Up    </td></tr>\n",
       "\t<tr><td>2001  </td><td> 0.959</td><td> 0.381</td><td>-0.192</td><td>-2.624</td><td>-1.055</td><td>1.2965</td><td> 1.032</td><td>Up    </td></tr>\n",
       "\t<tr><td>2001  </td><td> 1.032</td><td> 0.959</td><td> 0.381</td><td>-0.192</td><td>-2.624</td><td>1.4112</td><td>-0.623</td><td>Down  </td></tr>\n",
       "\t<tr><td>2001  </td><td>-0.623</td><td> 1.032</td><td> 0.959</td><td> 0.381</td><td>-0.192</td><td>1.2760</td><td> 0.614</td><td>Up    </td></tr>\n",
       "\t<tr><td>2001  </td><td> 0.614</td><td>-0.623</td><td> 1.032</td><td> 0.959</td><td> 0.381</td><td>1.2057</td><td> 0.213</td><td>Up    </td></tr>\n",
       "\t<tr><td>2001  </td><td> 0.213</td><td> 0.614</td><td>-0.623</td><td> 1.032</td><td> 0.959</td><td>1.3491</td><td> 1.392</td><td>Up    </td></tr>\n",
       "\t<tr><td>2001  </td><td> 1.392</td><td> 0.213</td><td> 0.614</td><td>-0.623</td><td> 1.032</td><td>1.4450</td><td>-0.403</td><td>Down  </td></tr>\n",
       "\t<tr><td>2001  </td><td>-0.403</td><td> 1.392</td><td> 0.213</td><td> 0.614</td><td>-0.623</td><td>1.4078</td><td> 0.027</td><td>Up    </td></tr>\n",
       "\t<tr><td>2001  </td><td> 0.027</td><td>-0.403</td><td> 1.392</td><td> 0.213</td><td> 0.614</td><td>1.1640</td><td> 1.303</td><td>Up    </td></tr>\n",
       "\t<tr><td>2001  </td><td> 1.303</td><td> 0.027</td><td>-0.403</td><td> 1.392</td><td> 0.213</td><td>1.2326</td><td> 0.287</td><td>Up    </td></tr>\n",
       "\t<tr><td>2001  </td><td> 0.287</td><td> 1.303</td><td> 0.027</td><td>-0.403</td><td> 1.392</td><td>1.3090</td><td>-0.498</td><td>Down  </td></tr>\n",
       "\t<tr><td>2001  </td><td>-0.498</td><td> 0.287</td><td> 1.303</td><td> 0.027</td><td>-0.403</td><td>1.2580</td><td>-0.189</td><td>Down  </td></tr>\n",
       "\t<tr><td>2001  </td><td>-0.189</td><td>-0.498</td><td> 0.287</td><td> 1.303</td><td> 0.027</td><td>1.0980</td><td> 0.680</td><td>Up    </td></tr>\n",
       "\t<tr><td>2001  </td><td> 0.680</td><td>-0.189</td><td>-0.498</td><td> 0.287</td><td> 1.303</td><td>1.0531</td><td> 0.701</td><td>Up    </td></tr>\n",
       "\t<tr><td>2001  </td><td> 0.701</td><td> 0.680</td><td>-0.189</td><td>-0.498</td><td> 0.287</td><td>1.1498</td><td>-0.562</td><td>Down  </td></tr>\n",
       "\t<tr><td>2001  </td><td>-0.562</td><td> 0.701</td><td> 0.680</td><td>-0.189</td><td>-0.498</td><td>1.2953</td><td> 0.546</td><td>Up    </td></tr>\n",
       "\t<tr><td>2001  </td><td> 0.546</td><td>-0.562</td><td> 0.701</td><td> 0.680</td><td>-0.189</td><td>1.1188</td><td>-1.747</td><td>Down  </td></tr>\n",
       "\t<tr><td>2001  </td><td>-1.747</td><td> 0.546</td><td>-0.562</td><td> 0.701</td><td> 0.680</td><td>1.0484</td><td> 0.359</td><td>Up    </td></tr>\n",
       "\t<tr><td>2001  </td><td> 0.359</td><td>-1.747</td><td> 0.546</td><td>-0.562</td><td> 0.701</td><td>1.0130</td><td>-0.151</td><td>Down  </td></tr>\n",
       "\t<tr><td>2001  </td><td>-0.151</td><td> 0.359</td><td>-1.747</td><td> 0.546</td><td>-0.562</td><td>1.0596</td><td>-0.841</td><td>Down  </td></tr>\n",
       "\t<tr><td>2001  </td><td>-0.841</td><td>-0.151</td><td> 0.359</td><td>-1.747</td><td> 0.546</td><td>1.1583</td><td>-0.623</td><td>Down  </td></tr>\n",
       "\t<tr><td>2001  </td><td>-0.623</td><td>-0.841</td><td>-0.151</td><td> 0.359</td><td>-1.747</td><td>1.1072</td><td>-1.334</td><td>Down  </td></tr>\n",
       "\t<tr><td>2001  </td><td>-1.334</td><td>-0.623</td><td>-0.841</td><td>-0.151</td><td> 0.359</td><td>1.0755</td><td> 1.183</td><td>Up    </td></tr>\n",
       "\t<tr><td>2001  </td><td> 1.183</td><td>-1.334</td><td>-0.623</td><td>-0.841</td><td>-0.151</td><td>1.0391</td><td>-0.865</td><td>Down  </td></tr>\n",
       "\t<tr><td>2001  </td><td>-0.865</td><td> 1.183</td><td>-1.334</td><td>-0.623</td><td>-0.841</td><td>1.0752</td><td>-0.218</td><td>Down  </td></tr>\n",
       "\t<tr><td>2001  </td><td>-0.218</td><td>-0.865</td><td> 1.183</td><td>-1.334</td><td>-0.623</td><td>1.1503</td><td> 0.812</td><td>Up    </td></tr>\n",
       "\t<tr><td>2001  </td><td> 0.812</td><td>-0.218</td><td>-0.865</td><td> 1.183</td><td>-1.334</td><td>1.1537</td><td>-1.891</td><td>Down  </td></tr>\n",
       "\t<tr><td>2001  </td><td>-1.891</td><td> 0.812</td><td>-0.218</td><td>-0.865</td><td> 1.183</td><td>1.2572</td><td>-1.736</td><td>Down  </td></tr>\n",
       "\t<tr><td>2001  </td><td>-1.736</td><td>-1.891</td><td> 0.812</td><td>-0.218</td><td>-0.865</td><td>1.1122</td><td>-1.851</td><td>Down  </td></tr>\n",
       "\t<tr><td>2001  </td><td>-1.851</td><td>-1.736</td><td>-1.891</td><td> 0.812</td><td>-0.218</td><td>1.2085</td><td>-0.195</td><td>Down  </td></tr>\n",
       "\t<tr><td>...</td><td>...</td><td>...</td><td>...</td><td>...</td><td>...</td><td>...</td><td>...</td><td>...</td></tr>\n",
       "\t<tr><td>2005   </td><td> 0.179 </td><td>-0.385 </td><td>-0.078 </td><td> 0.305 </td><td> 0.845 </td><td>2.12158</td><td> 0.941 </td><td>Up     </td></tr>\n",
       "\t<tr><td>2005   </td><td> 0.941 </td><td> 0.179 </td><td>-0.385 </td><td>-0.078 </td><td> 0.305 </td><td>2.29804</td><td> 0.440 </td><td>Up     </td></tr>\n",
       "\t<tr><td>2005   </td><td> 0.440 </td><td> 0.941 </td><td> 0.179 </td><td>-0.385 </td><td>-0.078 </td><td>2.45329</td><td> 0.527 </td><td>Up     </td></tr>\n",
       "\t<tr><td>2005   </td><td> 0.527 </td><td> 0.440 </td><td> 0.941 </td><td> 0.179 </td><td>-0.385 </td><td>2.11735</td><td> 0.508 </td><td>Up     </td></tr>\n",
       "\t<tr><td>2005   </td><td> 0.508 </td><td> 0.527 </td><td> 0.440 </td><td> 0.941 </td><td> 0.179 </td><td>2.29142</td><td> 0.347 </td><td>Up     </td></tr>\n",
       "\t<tr><td>2005   </td><td> 0.347 </td><td> 0.508 </td><td> 0.527 </td><td> 0.440 </td><td> 0.941 </td><td>1.98540</td><td> 0.209 </td><td>Up     </td></tr>\n",
       "\t<tr><td>2005   </td><td> 0.209 </td><td> 0.347 </td><td> 0.508 </td><td> 0.527 </td><td> 0.440 </td><td>0.72494</td><td>-0.851 </td><td>Down   </td></tr>\n",
       "\t<tr><td>2005   </td><td>-0.851 </td><td> 0.209 </td><td> 0.347 </td><td> 0.508 </td><td> 0.527 </td><td>2.01690</td><td> 0.002 </td><td>Up     </td></tr>\n",
       "\t<tr><td>2005   </td><td> 0.002 </td><td>-0.851 </td><td> 0.209 </td><td> 0.347 </td><td> 0.508 </td><td>2.26834</td><td>-0.636 </td><td>Down   </td></tr>\n",
       "\t<tr><td>2005   </td><td>-0.636 </td><td> 0.002 </td><td>-0.851 </td><td> 0.209 </td><td> 0.347 </td><td>2.37469</td><td> 1.216 </td><td>Up     </td></tr>\n",
       "\t<tr><td>2005   </td><td> 1.216 </td><td>-0.636 </td><td> 0.002 </td><td>-0.851 </td><td> 0.209 </td><td>2.61483</td><td> 0.032 </td><td>Up     </td></tr>\n",
       "\t<tr><td>2005   </td><td> 0.032 </td><td> 1.216 </td><td>-0.636 </td><td> 0.002 </td><td>-0.851 </td><td>2.12558</td><td>-0.236 </td><td>Down   </td></tr>\n",
       "\t<tr><td>2005   </td><td>-0.236 </td><td> 0.032 </td><td> 1.216 </td><td>-0.636 </td><td> 0.002 </td><td>2.32584</td><td> 0.128 </td><td>Up     </td></tr>\n",
       "\t<tr><td>2005   </td><td> 0.128 </td><td>-0.236 </td><td> 0.032 </td><td> 1.216 </td><td>-0.636 </td><td>2.11074</td><td>-0.501 </td><td>Down   </td></tr>\n",
       "\t<tr><td>2005   </td><td>-0.501 </td><td> 0.128 </td><td>-0.236 </td><td> 0.032 </td><td> 1.216 </td><td>2.09383</td><td>-0.122 </td><td>Down   </td></tr>\n",
       "\t<tr><td>2005   </td><td>-0.122 </td><td>-0.501 </td><td> 0.128 </td><td>-0.236 </td><td> 0.032 </td><td>2.17830</td><td> 0.281 </td><td>Up     </td></tr>\n",
       "\t<tr><td>2005   </td><td> 0.281 </td><td>-0.122 </td><td>-0.501 </td><td> 0.128 </td><td>-0.236 </td><td>1.89629</td><td> 0.084 </td><td>Up     </td></tr>\n",
       "\t<tr><td>2005   </td><td> 0.084 </td><td> 0.281 </td><td>-0.122 </td><td>-0.501 </td><td> 0.128 </td><td>1.87655</td><td> 0.555 </td><td>Up     </td></tr>\n",
       "\t<tr><td>2005   </td><td> 0.555 </td><td> 0.084 </td><td> 0.281 </td><td>-0.122 </td><td>-0.501 </td><td>2.39002</td><td> 0.419 </td><td>Up     </td></tr>\n",
       "\t<tr><td>2005   </td><td> 0.419 </td><td> 0.555 </td><td> 0.084 </td><td> 0.281 </td><td>-0.122 </td><td>2.14552</td><td>-0.141 </td><td>Down   </td></tr>\n",
       "\t<tr><td>2005   </td><td>-0.141 </td><td> 0.419 </td><td> 0.555 </td><td> 0.084 </td><td> 0.281 </td><td>2.18059</td><td>-0.285 </td><td>Down   </td></tr>\n",
       "\t<tr><td>2005   </td><td>-0.285 </td><td>-0.141 </td><td> 0.419 </td><td> 0.555 </td><td> 0.084 </td><td>2.58419</td><td>-0.584 </td><td>Down   </td></tr>\n",
       "\t<tr><td>2005   </td><td>-0.584 </td><td>-0.285 </td><td>-0.141 </td><td> 0.419 </td><td> 0.555 </td><td>2.20881</td><td>-0.024 </td><td>Down   </td></tr>\n",
       "\t<tr><td>2005   </td><td>-0.024 </td><td>-0.584 </td><td>-0.285 </td><td>-0.141 </td><td> 0.419 </td><td>1.99669</td><td> 0.252 </td><td>Up     </td></tr>\n",
       "\t<tr><td>2005   </td><td> 0.252 </td><td>-0.024 </td><td>-0.584 </td><td>-0.285 </td><td>-0.141 </td><td>2.06517</td><td> 0.422 </td><td>Up     </td></tr>\n",
       "\t<tr><td>2005   </td><td> 0.422 </td><td> 0.252 </td><td>-0.024 </td><td>-0.584 </td><td>-0.285 </td><td>1.88850</td><td> 0.043 </td><td>Up     </td></tr>\n",
       "\t<tr><td>2005   </td><td> 0.043 </td><td> 0.422 </td><td> 0.252 </td><td>-0.024 </td><td>-0.584 </td><td>1.28581</td><td>-0.955 </td><td>Down   </td></tr>\n",
       "\t<tr><td>2005   </td><td>-0.955 </td><td> 0.043 </td><td> 0.422 </td><td> 0.252 </td><td>-0.024 </td><td>1.54047</td><td> 0.130 </td><td>Up     </td></tr>\n",
       "\t<tr><td>2005   </td><td> 0.130 </td><td>-0.955 </td><td> 0.043 </td><td> 0.422 </td><td> 0.252 </td><td>1.42236</td><td>-0.298 </td><td>Down   </td></tr>\n",
       "\t<tr><td>2005   </td><td>-0.298 </td><td> 0.130 </td><td>-0.955 </td><td> 0.043 </td><td> 0.422 </td><td>1.38254</td><td>-0.489 </td><td>Down   </td></tr>\n",
       "</tbody>\n",
       "</table>\n"
      ],
      "text/latex": [
       "\\begin{tabular}{r|lllllllll}\n",
       " Year & Lag1 & Lag2 & Lag3 & Lag4 & Lag5 & Volume & Today & Direction\\\\\n",
       "\\hline\n",
       "\t 2001   &  0.381 & -0.192 & -2.624 & -1.055 &  5.010 & 1.1913 &  0.959 & Up    \\\\\n",
       "\t 2001   &  0.959 &  0.381 & -0.192 & -2.624 & -1.055 & 1.2965 &  1.032 & Up    \\\\\n",
       "\t 2001   &  1.032 &  0.959 &  0.381 & -0.192 & -2.624 & 1.4112 & -0.623 & Down  \\\\\n",
       "\t 2001   & -0.623 &  1.032 &  0.959 &  0.381 & -0.192 & 1.2760 &  0.614 & Up    \\\\\n",
       "\t 2001   &  0.614 & -0.623 &  1.032 &  0.959 &  0.381 & 1.2057 &  0.213 & Up    \\\\\n",
       "\t 2001   &  0.213 &  0.614 & -0.623 &  1.032 &  0.959 & 1.3491 &  1.392 & Up    \\\\\n",
       "\t 2001   &  1.392 &  0.213 &  0.614 & -0.623 &  1.032 & 1.4450 & -0.403 & Down  \\\\\n",
       "\t 2001   & -0.403 &  1.392 &  0.213 &  0.614 & -0.623 & 1.4078 &  0.027 & Up    \\\\\n",
       "\t 2001   &  0.027 & -0.403 &  1.392 &  0.213 &  0.614 & 1.1640 &  1.303 & Up    \\\\\n",
       "\t 2001   &  1.303 &  0.027 & -0.403 &  1.392 &  0.213 & 1.2326 &  0.287 & Up    \\\\\n",
       "\t 2001   &  0.287 &  1.303 &  0.027 & -0.403 &  1.392 & 1.3090 & -0.498 & Down  \\\\\n",
       "\t 2001   & -0.498 &  0.287 &  1.303 &  0.027 & -0.403 & 1.2580 & -0.189 & Down  \\\\\n",
       "\t 2001   & -0.189 & -0.498 &  0.287 &  1.303 &  0.027 & 1.0980 &  0.680 & Up    \\\\\n",
       "\t 2001   &  0.680 & -0.189 & -0.498 &  0.287 &  1.303 & 1.0531 &  0.701 & Up    \\\\\n",
       "\t 2001   &  0.701 &  0.680 & -0.189 & -0.498 &  0.287 & 1.1498 & -0.562 & Down  \\\\\n",
       "\t 2001   & -0.562 &  0.701 &  0.680 & -0.189 & -0.498 & 1.2953 &  0.546 & Up    \\\\\n",
       "\t 2001   &  0.546 & -0.562 &  0.701 &  0.680 & -0.189 & 1.1188 & -1.747 & Down  \\\\\n",
       "\t 2001   & -1.747 &  0.546 & -0.562 &  0.701 &  0.680 & 1.0484 &  0.359 & Up    \\\\\n",
       "\t 2001   &  0.359 & -1.747 &  0.546 & -0.562 &  0.701 & 1.0130 & -0.151 & Down  \\\\\n",
       "\t 2001   & -0.151 &  0.359 & -1.747 &  0.546 & -0.562 & 1.0596 & -0.841 & Down  \\\\\n",
       "\t 2001   & -0.841 & -0.151 &  0.359 & -1.747 &  0.546 & 1.1583 & -0.623 & Down  \\\\\n",
       "\t 2001   & -0.623 & -0.841 & -0.151 &  0.359 & -1.747 & 1.1072 & -1.334 & Down  \\\\\n",
       "\t 2001   & -1.334 & -0.623 & -0.841 & -0.151 &  0.359 & 1.0755 &  1.183 & Up    \\\\\n",
       "\t 2001   &  1.183 & -1.334 & -0.623 & -0.841 & -0.151 & 1.0391 & -0.865 & Down  \\\\\n",
       "\t 2001   & -0.865 &  1.183 & -1.334 & -0.623 & -0.841 & 1.0752 & -0.218 & Down  \\\\\n",
       "\t 2001   & -0.218 & -0.865 &  1.183 & -1.334 & -0.623 & 1.1503 &  0.812 & Up    \\\\\n",
       "\t 2001   &  0.812 & -0.218 & -0.865 &  1.183 & -1.334 & 1.1537 & -1.891 & Down  \\\\\n",
       "\t 2001   & -1.891 &  0.812 & -0.218 & -0.865 &  1.183 & 1.2572 & -1.736 & Down  \\\\\n",
       "\t 2001   & -1.736 & -1.891 &  0.812 & -0.218 & -0.865 & 1.1122 & -1.851 & Down  \\\\\n",
       "\t 2001   & -1.851 & -1.736 & -1.891 &  0.812 & -0.218 & 1.2085 & -0.195 & Down  \\\\\n",
       "\t ... & ... & ... & ... & ... & ... & ... & ... & ...\\\\\n",
       "\t 2005    &  0.179  & -0.385  & -0.078  &  0.305  &  0.845  & 2.12158 &  0.941  & Up     \\\\\n",
       "\t 2005    &  0.941  &  0.179  & -0.385  & -0.078  &  0.305  & 2.29804 &  0.440  & Up     \\\\\n",
       "\t 2005    &  0.440  &  0.941  &  0.179  & -0.385  & -0.078  & 2.45329 &  0.527  & Up     \\\\\n",
       "\t 2005    &  0.527  &  0.440  &  0.941  &  0.179  & -0.385  & 2.11735 &  0.508  & Up     \\\\\n",
       "\t 2005    &  0.508  &  0.527  &  0.440  &  0.941  &  0.179  & 2.29142 &  0.347  & Up     \\\\\n",
       "\t 2005    &  0.347  &  0.508  &  0.527  &  0.440  &  0.941  & 1.98540 &  0.209  & Up     \\\\\n",
       "\t 2005    &  0.209  &  0.347  &  0.508  &  0.527  &  0.440  & 0.72494 & -0.851  & Down   \\\\\n",
       "\t 2005    & -0.851  &  0.209  &  0.347  &  0.508  &  0.527  & 2.01690 &  0.002  & Up     \\\\\n",
       "\t 2005    &  0.002  & -0.851  &  0.209  &  0.347  &  0.508  & 2.26834 & -0.636  & Down   \\\\\n",
       "\t 2005    & -0.636  &  0.002  & -0.851  &  0.209  &  0.347  & 2.37469 &  1.216  & Up     \\\\\n",
       "\t 2005    &  1.216  & -0.636  &  0.002  & -0.851  &  0.209  & 2.61483 &  0.032  & Up     \\\\\n",
       "\t 2005    &  0.032  &  1.216  & -0.636  &  0.002  & -0.851  & 2.12558 & -0.236  & Down   \\\\\n",
       "\t 2005    & -0.236  &  0.032  &  1.216  & -0.636  &  0.002  & 2.32584 &  0.128  & Up     \\\\\n",
       "\t 2005    &  0.128  & -0.236  &  0.032  &  1.216  & -0.636  & 2.11074 & -0.501  & Down   \\\\\n",
       "\t 2005    & -0.501  &  0.128  & -0.236  &  0.032  &  1.216  & 2.09383 & -0.122  & Down   \\\\\n",
       "\t 2005    & -0.122  & -0.501  &  0.128  & -0.236  &  0.032  & 2.17830 &  0.281  & Up     \\\\\n",
       "\t 2005    &  0.281  & -0.122  & -0.501  &  0.128  & -0.236  & 1.89629 &  0.084  & Up     \\\\\n",
       "\t 2005    &  0.084  &  0.281  & -0.122  & -0.501  &  0.128  & 1.87655 &  0.555  & Up     \\\\\n",
       "\t 2005    &  0.555  &  0.084  &  0.281  & -0.122  & -0.501  & 2.39002 &  0.419  & Up     \\\\\n",
       "\t 2005    &  0.419  &  0.555  &  0.084  &  0.281  & -0.122  & 2.14552 & -0.141  & Down   \\\\\n",
       "\t 2005    & -0.141  &  0.419  &  0.555  &  0.084  &  0.281  & 2.18059 & -0.285  & Down   \\\\\n",
       "\t 2005    & -0.285  & -0.141  &  0.419  &  0.555  &  0.084  & 2.58419 & -0.584  & Down   \\\\\n",
       "\t 2005    & -0.584  & -0.285  & -0.141  &  0.419  &  0.555  & 2.20881 & -0.024  & Down   \\\\\n",
       "\t 2005    & -0.024  & -0.584  & -0.285  & -0.141  &  0.419  & 1.99669 &  0.252  & Up     \\\\\n",
       "\t 2005    &  0.252  & -0.024  & -0.584  & -0.285  & -0.141  & 2.06517 &  0.422  & Up     \\\\\n",
       "\t 2005    &  0.422  &  0.252  & -0.024  & -0.584  & -0.285  & 1.88850 &  0.043  & Up     \\\\\n",
       "\t 2005    &  0.043  &  0.422  &  0.252  & -0.024  & -0.584  & 1.28581 & -0.955  & Down   \\\\\n",
       "\t 2005    & -0.955  &  0.043  &  0.422  &  0.252  & -0.024  & 1.54047 &  0.130  & Up     \\\\\n",
       "\t 2005    &  0.130  & -0.955  &  0.043  &  0.422  &  0.252  & 1.42236 & -0.298  & Down   \\\\\n",
       "\t 2005    & -0.298  &  0.130  & -0.955  &  0.043  &  0.422  & 1.38254 & -0.489  & Down   \\\\\n",
       "\\end{tabular}\n"
      ],
      "text/markdown": [
       "\n",
       "| Year | Lag1 | Lag2 | Lag3 | Lag4 | Lag5 | Volume | Today | Direction |\n",
       "|---|---|---|---|---|---|---|---|---|\n",
       "| 2001   |  0.381 | -0.192 | -2.624 | -1.055 |  5.010 | 1.1913 |  0.959 | Up     |\n",
       "| 2001   |  0.959 |  0.381 | -0.192 | -2.624 | -1.055 | 1.2965 |  1.032 | Up     |\n",
       "| 2001   |  1.032 |  0.959 |  0.381 | -0.192 | -2.624 | 1.4112 | -0.623 | Down   |\n",
       "| 2001   | -0.623 |  1.032 |  0.959 |  0.381 | -0.192 | 1.2760 |  0.614 | Up     |\n",
       "| 2001   |  0.614 | -0.623 |  1.032 |  0.959 |  0.381 | 1.2057 |  0.213 | Up     |\n",
       "| 2001   |  0.213 |  0.614 | -0.623 |  1.032 |  0.959 | 1.3491 |  1.392 | Up     |\n",
       "| 2001   |  1.392 |  0.213 |  0.614 | -0.623 |  1.032 | 1.4450 | -0.403 | Down   |\n",
       "| 2001   | -0.403 |  1.392 |  0.213 |  0.614 | -0.623 | 1.4078 |  0.027 | Up     |\n",
       "| 2001   |  0.027 | -0.403 |  1.392 |  0.213 |  0.614 | 1.1640 |  1.303 | Up     |\n",
       "| 2001   |  1.303 |  0.027 | -0.403 |  1.392 |  0.213 | 1.2326 |  0.287 | Up     |\n",
       "| 2001   |  0.287 |  1.303 |  0.027 | -0.403 |  1.392 | 1.3090 | -0.498 | Down   |\n",
       "| 2001   | -0.498 |  0.287 |  1.303 |  0.027 | -0.403 | 1.2580 | -0.189 | Down   |\n",
       "| 2001   | -0.189 | -0.498 |  0.287 |  1.303 |  0.027 | 1.0980 |  0.680 | Up     |\n",
       "| 2001   |  0.680 | -0.189 | -0.498 |  0.287 |  1.303 | 1.0531 |  0.701 | Up     |\n",
       "| 2001   |  0.701 |  0.680 | -0.189 | -0.498 |  0.287 | 1.1498 | -0.562 | Down   |\n",
       "| 2001   | -0.562 |  0.701 |  0.680 | -0.189 | -0.498 | 1.2953 |  0.546 | Up     |\n",
       "| 2001   |  0.546 | -0.562 |  0.701 |  0.680 | -0.189 | 1.1188 | -1.747 | Down   |\n",
       "| 2001   | -1.747 |  0.546 | -0.562 |  0.701 |  0.680 | 1.0484 |  0.359 | Up     |\n",
       "| 2001   |  0.359 | -1.747 |  0.546 | -0.562 |  0.701 | 1.0130 | -0.151 | Down   |\n",
       "| 2001   | -0.151 |  0.359 | -1.747 |  0.546 | -0.562 | 1.0596 | -0.841 | Down   |\n",
       "| 2001   | -0.841 | -0.151 |  0.359 | -1.747 |  0.546 | 1.1583 | -0.623 | Down   |\n",
       "| 2001   | -0.623 | -0.841 | -0.151 |  0.359 | -1.747 | 1.1072 | -1.334 | Down   |\n",
       "| 2001   | -1.334 | -0.623 | -0.841 | -0.151 |  0.359 | 1.0755 |  1.183 | Up     |\n",
       "| 2001   |  1.183 | -1.334 | -0.623 | -0.841 | -0.151 | 1.0391 | -0.865 | Down   |\n",
       "| 2001   | -0.865 |  1.183 | -1.334 | -0.623 | -0.841 | 1.0752 | -0.218 | Down   |\n",
       "| 2001   | -0.218 | -0.865 |  1.183 | -1.334 | -0.623 | 1.1503 |  0.812 | Up     |\n",
       "| 2001   |  0.812 | -0.218 | -0.865 |  1.183 | -1.334 | 1.1537 | -1.891 | Down   |\n",
       "| 2001   | -1.891 |  0.812 | -0.218 | -0.865 |  1.183 | 1.2572 | -1.736 | Down   |\n",
       "| 2001   | -1.736 | -1.891 |  0.812 | -0.218 | -0.865 | 1.1122 | -1.851 | Down   |\n",
       "| 2001   | -1.851 | -1.736 | -1.891 |  0.812 | -0.218 | 1.2085 | -0.195 | Down   |\n",
       "| ... | ... | ... | ... | ... | ... | ... | ... | ... |\n",
       "| 2005    |  0.179  | -0.385  | -0.078  |  0.305  |  0.845  | 2.12158 |  0.941  | Up      |\n",
       "| 2005    |  0.941  |  0.179  | -0.385  | -0.078  |  0.305  | 2.29804 |  0.440  | Up      |\n",
       "| 2005    |  0.440  |  0.941  |  0.179  | -0.385  | -0.078  | 2.45329 |  0.527  | Up      |\n",
       "| 2005    |  0.527  |  0.440  |  0.941  |  0.179  | -0.385  | 2.11735 |  0.508  | Up      |\n",
       "| 2005    |  0.508  |  0.527  |  0.440  |  0.941  |  0.179  | 2.29142 |  0.347  | Up      |\n",
       "| 2005    |  0.347  |  0.508  |  0.527  |  0.440  |  0.941  | 1.98540 |  0.209  | Up      |\n",
       "| 2005    |  0.209  |  0.347  |  0.508  |  0.527  |  0.440  | 0.72494 | -0.851  | Down    |\n",
       "| 2005    | -0.851  |  0.209  |  0.347  |  0.508  |  0.527  | 2.01690 |  0.002  | Up      |\n",
       "| 2005    |  0.002  | -0.851  |  0.209  |  0.347  |  0.508  | 2.26834 | -0.636  | Down    |\n",
       "| 2005    | -0.636  |  0.002  | -0.851  |  0.209  |  0.347  | 2.37469 |  1.216  | Up      |\n",
       "| 2005    |  1.216  | -0.636  |  0.002  | -0.851  |  0.209  | 2.61483 |  0.032  | Up      |\n",
       "| 2005    |  0.032  |  1.216  | -0.636  |  0.002  | -0.851  | 2.12558 | -0.236  | Down    |\n",
       "| 2005    | -0.236  |  0.032  |  1.216  | -0.636  |  0.002  | 2.32584 |  0.128  | Up      |\n",
       "| 2005    |  0.128  | -0.236  |  0.032  |  1.216  | -0.636  | 2.11074 | -0.501  | Down    |\n",
       "| 2005    | -0.501  |  0.128  | -0.236  |  0.032  |  1.216  | 2.09383 | -0.122  | Down    |\n",
       "| 2005    | -0.122  | -0.501  |  0.128  | -0.236  |  0.032  | 2.17830 |  0.281  | Up      |\n",
       "| 2005    |  0.281  | -0.122  | -0.501  |  0.128  | -0.236  | 1.89629 |  0.084  | Up      |\n",
       "| 2005    |  0.084  |  0.281  | -0.122  | -0.501  |  0.128  | 1.87655 |  0.555  | Up      |\n",
       "| 2005    |  0.555  |  0.084  |  0.281  | -0.122  | -0.501  | 2.39002 |  0.419  | Up      |\n",
       "| 2005    |  0.419  |  0.555  |  0.084  |  0.281  | -0.122  | 2.14552 | -0.141  | Down    |\n",
       "| 2005    | -0.141  |  0.419  |  0.555  |  0.084  |  0.281  | 2.18059 | -0.285  | Down    |\n",
       "| 2005    | -0.285  | -0.141  |  0.419  |  0.555  |  0.084  | 2.58419 | -0.584  | Down    |\n",
       "| 2005    | -0.584  | -0.285  | -0.141  |  0.419  |  0.555  | 2.20881 | -0.024  | Down    |\n",
       "| 2005    | -0.024  | -0.584  | -0.285  | -0.141  |  0.419  | 1.99669 |  0.252  | Up      |\n",
       "| 2005    |  0.252  | -0.024  | -0.584  | -0.285  | -0.141  | 2.06517 |  0.422  | Up      |\n",
       "| 2005    |  0.422  |  0.252  | -0.024  | -0.584  | -0.285  | 1.88850 |  0.043  | Up      |\n",
       "| 2005    |  0.043  |  0.422  |  0.252  | -0.024  | -0.584  | 1.28581 | -0.955  | Down    |\n",
       "| 2005    | -0.955  |  0.043  |  0.422  |  0.252  | -0.024  | 1.54047 |  0.130  | Up      |\n",
       "| 2005    |  0.130  | -0.955  |  0.043  |  0.422  |  0.252  | 1.42236 | -0.298  | Down    |\n",
       "| 2005    | -0.298  |  0.130  | -0.955  |  0.043  |  0.422  | 1.38254 | -0.489  | Down    |\n",
       "\n"
      ],
      "text/plain": [
       "     Year Lag1   Lag2   Lag3   Lag4   Lag5   Volume  Today  Direction\n",
       "1    2001  0.381 -0.192 -2.624 -1.055  5.010 1.1913   0.959 Up       \n",
       "2    2001  0.959  0.381 -0.192 -2.624 -1.055 1.2965   1.032 Up       \n",
       "3    2001  1.032  0.959  0.381 -0.192 -2.624 1.4112  -0.623 Down     \n",
       "4    2001 -0.623  1.032  0.959  0.381 -0.192 1.2760   0.614 Up       \n",
       "5    2001  0.614 -0.623  1.032  0.959  0.381 1.2057   0.213 Up       \n",
       "6    2001  0.213  0.614 -0.623  1.032  0.959 1.3491   1.392 Up       \n",
       "7    2001  1.392  0.213  0.614 -0.623  1.032 1.4450  -0.403 Down     \n",
       "8    2001 -0.403  1.392  0.213  0.614 -0.623 1.4078   0.027 Up       \n",
       "9    2001  0.027 -0.403  1.392  0.213  0.614 1.1640   1.303 Up       \n",
       "10   2001  1.303  0.027 -0.403  1.392  0.213 1.2326   0.287 Up       \n",
       "11   2001  0.287  1.303  0.027 -0.403  1.392 1.3090  -0.498 Down     \n",
       "12   2001 -0.498  0.287  1.303  0.027 -0.403 1.2580  -0.189 Down     \n",
       "13   2001 -0.189 -0.498  0.287  1.303  0.027 1.0980   0.680 Up       \n",
       "14   2001  0.680 -0.189 -0.498  0.287  1.303 1.0531   0.701 Up       \n",
       "15   2001  0.701  0.680 -0.189 -0.498  0.287 1.1498  -0.562 Down     \n",
       "16   2001 -0.562  0.701  0.680 -0.189 -0.498 1.2953   0.546 Up       \n",
       "17   2001  0.546 -0.562  0.701  0.680 -0.189 1.1188  -1.747 Down     \n",
       "18   2001 -1.747  0.546 -0.562  0.701  0.680 1.0484   0.359 Up       \n",
       "19   2001  0.359 -1.747  0.546 -0.562  0.701 1.0130  -0.151 Down     \n",
       "20   2001 -0.151  0.359 -1.747  0.546 -0.562 1.0596  -0.841 Down     \n",
       "21   2001 -0.841 -0.151  0.359 -1.747  0.546 1.1583  -0.623 Down     \n",
       "22   2001 -0.623 -0.841 -0.151  0.359 -1.747 1.1072  -1.334 Down     \n",
       "23   2001 -1.334 -0.623 -0.841 -0.151  0.359 1.0755   1.183 Up       \n",
       "24   2001  1.183 -1.334 -0.623 -0.841 -0.151 1.0391  -0.865 Down     \n",
       "25   2001 -0.865  1.183 -1.334 -0.623 -0.841 1.0752  -0.218 Down     \n",
       "26   2001 -0.218 -0.865  1.183 -1.334 -0.623 1.1503   0.812 Up       \n",
       "27   2001  0.812 -0.218 -0.865  1.183 -1.334 1.1537  -1.891 Down     \n",
       "28   2001 -1.891  0.812 -0.218 -0.865  1.183 1.2572  -1.736 Down     \n",
       "29   2001 -1.736 -1.891  0.812 -0.218 -0.865 1.1122  -1.851 Down     \n",
       "30   2001 -1.851 -1.736 -1.891  0.812 -0.218 1.2085  -0.195 Down     \n",
       "...  ...  ...    ...    ...    ...    ...    ...     ...    ...      \n",
       "1221 2005  0.179 -0.385 -0.078  0.305  0.845 2.12158  0.941 Up       \n",
       "1222 2005  0.941  0.179 -0.385 -0.078  0.305 2.29804  0.440 Up       \n",
       "1223 2005  0.440  0.941  0.179 -0.385 -0.078 2.45329  0.527 Up       \n",
       "1224 2005  0.527  0.440  0.941  0.179 -0.385 2.11735  0.508 Up       \n",
       "1225 2005  0.508  0.527  0.440  0.941  0.179 2.29142  0.347 Up       \n",
       "1226 2005  0.347  0.508  0.527  0.440  0.941 1.98540  0.209 Up       \n",
       "1227 2005  0.209  0.347  0.508  0.527  0.440 0.72494 -0.851 Down     \n",
       "1228 2005 -0.851  0.209  0.347  0.508  0.527 2.01690  0.002 Up       \n",
       "1229 2005  0.002 -0.851  0.209  0.347  0.508 2.26834 -0.636 Down     \n",
       "1230 2005 -0.636  0.002 -0.851  0.209  0.347 2.37469  1.216 Up       \n",
       "1231 2005  1.216 -0.636  0.002 -0.851  0.209 2.61483  0.032 Up       \n",
       "1232 2005  0.032  1.216 -0.636  0.002 -0.851 2.12558 -0.236 Down     \n",
       "1233 2005 -0.236  0.032  1.216 -0.636  0.002 2.32584  0.128 Up       \n",
       "1234 2005  0.128 -0.236  0.032  1.216 -0.636 2.11074 -0.501 Down     \n",
       "1235 2005 -0.501  0.128 -0.236  0.032  1.216 2.09383 -0.122 Down     \n",
       "1236 2005 -0.122 -0.501  0.128 -0.236  0.032 2.17830  0.281 Up       \n",
       "1237 2005  0.281 -0.122 -0.501  0.128 -0.236 1.89629  0.084 Up       \n",
       "1238 2005  0.084  0.281 -0.122 -0.501  0.128 1.87655  0.555 Up       \n",
       "1239 2005  0.555  0.084  0.281 -0.122 -0.501 2.39002  0.419 Up       \n",
       "1240 2005  0.419  0.555  0.084  0.281 -0.122 2.14552 -0.141 Down     \n",
       "1241 2005 -0.141  0.419  0.555  0.084  0.281 2.18059 -0.285 Down     \n",
       "1242 2005 -0.285 -0.141  0.419  0.555  0.084 2.58419 -0.584 Down     \n",
       "1243 2005 -0.584 -0.285 -0.141  0.419  0.555 2.20881 -0.024 Down     \n",
       "1244 2005 -0.024 -0.584 -0.285 -0.141  0.419 1.99669  0.252 Up       \n",
       "1245 2005  0.252 -0.024 -0.584 -0.285 -0.141 2.06517  0.422 Up       \n",
       "1246 2005  0.422  0.252 -0.024 -0.584 -0.285 1.88850  0.043 Up       \n",
       "1247 2005  0.043  0.422  0.252 -0.024 -0.584 1.28581 -0.955 Down     \n",
       "1248 2005 -0.955  0.043  0.422  0.252 -0.024 1.54047  0.130 Up       \n",
       "1249 2005  0.130 -0.955  0.043  0.422  0.252 1.42236 -0.298 Down     \n",
       "1250 2005 -0.298  0.130 -0.955  0.043  0.422 1.38254 -0.489 Down     "
      ]
     },
     "metadata": {},
     "output_type": "display_data"
    }
   ],
   "source": [
    "Smarket"
   ]
  },
  {
   "cell_type": "code",
   "execution_count": 27,
   "metadata": {},
   "outputs": [],
   "source": [
    "?Smarket"
   ]
  },
  {
   "cell_type": "code",
   "execution_count": 28,
   "metadata": {},
   "outputs": [
    {
     "data": {
      "text/plain": [
       "      Year           Lag1                Lag2                Lag3          \n",
       " Min.   :2001   Min.   :-4.922000   Min.   :-4.922000   Min.   :-4.922000  \n",
       " 1st Qu.:2002   1st Qu.:-0.639500   1st Qu.:-0.639500   1st Qu.:-0.640000  \n",
       " Median :2003   Median : 0.039000   Median : 0.039000   Median : 0.038500  \n",
       " Mean   :2003   Mean   : 0.003834   Mean   : 0.003919   Mean   : 0.001716  \n",
       " 3rd Qu.:2004   3rd Qu.: 0.596750   3rd Qu.: 0.596750   3rd Qu.: 0.596750  \n",
       " Max.   :2005   Max.   : 5.733000   Max.   : 5.733000   Max.   : 5.733000  \n",
       "      Lag4                Lag5              Volume           Today          \n",
       " Min.   :-4.922000   Min.   :-4.92200   Min.   :0.3561   Min.   :-4.922000  \n",
       " 1st Qu.:-0.640000   1st Qu.:-0.64000   1st Qu.:1.2574   1st Qu.:-0.639500  \n",
       " Median : 0.038500   Median : 0.03850   Median :1.4229   Median : 0.038500  \n",
       " Mean   : 0.001636   Mean   : 0.00561   Mean   :1.4783   Mean   : 0.003138  \n",
       " 3rd Qu.: 0.596750   3rd Qu.: 0.59700   3rd Qu.:1.6417   3rd Qu.: 0.596750  \n",
       " Max.   : 5.733000   Max.   : 5.73300   Max.   :3.1525   Max.   : 5.733000  \n",
       " Direction \n",
       " Down:602  \n",
       " Up  :648  \n",
       "           \n",
       "           \n",
       "           \n",
       "           "
      ]
     },
     "metadata": {},
     "output_type": "display_data"
    },
    {
     "data": {
      "text/plain": [
       "\n",
       "Call:\n",
       "lm(formula = Today ~ Lag1 + Lag2, data = Smarket)\n",
       "\n",
       "Coefficients:\n",
       "(Intercept)         Lag1         Lag2  \n",
       "   0.003283    -0.026444    -0.010946  \n"
      ]
     },
     "metadata": {},
     "output_type": "display_data"
    }
   ],
   "source": [
    "summary(Smarket)\n",
    "lm(Today~Lag1+Lag2,data=Smarket)"
   ]
  },
  {
   "cell_type": "code",
   "execution_count": 29,
   "metadata": {},
   "outputs": [
    {
     "data": {
      "image/png": "[encoded data removed]",
      "text/plain": [
       "plot without title"
      ]
     },
     "metadata": {},
     "output_type": "display_data"
    }
   ],
   "source": [
    "plot(Today~Lag1, data=Smarket)\n",
    "abline(lm(Today~Lag1,data=Smarket)$coefficients, col='red')"
   ]
  },
  {
   "cell_type": "code",
   "execution_count": 30,
   "metadata": {},
   "outputs": [
    {
     "data": {
      "text/plain": [
       "\n",
       "Call:\n",
       "glm(formula = Direction ~ Lag1 + Lag2 + Lag3 + Lag4 + Lag5 + \n",
       "    Volume, family = binomial, data = Smarket)\n",
       "\n",
       "Deviance Residuals: \n",
       "   Min      1Q  Median      3Q     Max  \n",
       "-1.446  -1.203   1.065   1.145   1.326  \n",
       "\n",
       "Coefficients:\n",
       "             Estimate Std. Error z value Pr(>|z|)\n",
       "(Intercept) -0.126000   0.240736  -0.523    0.601\n",
       "Lag1        -0.073074   0.050167  -1.457    0.145\n",
       "Lag2        -0.042301   0.050086  -0.845    0.398\n",
       "Lag3         0.011085   0.049939   0.222    0.824\n",
       "Lag4         0.009359   0.049974   0.187    0.851\n",
       "Lag5         0.010313   0.049511   0.208    0.835\n",
       "Volume       0.135441   0.158360   0.855    0.392\n",
       "\n",
       "(Dispersion parameter for binomial family taken to be 1)\n",
       "\n",
       "    Null deviance: 1731.2  on 1249  degrees of freedom\n",
       "Residual deviance: 1727.6  on 1243  degrees of freedom\n",
       "AIC: 1741.6\n",
       "\n",
       "Number of Fisher Scoring iterations: 3\n"
      ]
     },
     "metadata": {},
     "output_type": "display_data"
    }
   ],
   "source": [
    "glm.fit <- glm(Direction ~ Lag1 + Lag2 + Lag3 + Lag4 + Lag5 + Volume, data = Smarket, family = binomial)\n",
    "glm.probs <- predict(glm.fit,type = \"response\")\n",
    "glm.pred <- ifelse(glm.probs > 0.5, \"Up\", \"Down\")\n",
    "\n",
    "summary(glm.fit)"
   ]
  },
  {
   "cell_type": "code",
   "execution_count": 31,
   "metadata": {},
   "outputs": [
    {
     "data": {
      "text/html": [
       "<table>\n",
       "<thead><tr><th scope=col>Year</th><th scope=col>Lag1</th><th scope=col>Lag2</th><th scope=col>Lag3</th><th scope=col>Lag4</th><th scope=col>Lag5</th><th scope=col>Volume</th><th scope=col>Today</th><th scope=col>Direction</th></tr></thead>\n",
       "<tbody>\n",
       "\t<tr><td>2001  </td><td> 0.381</td><td>-0.192</td><td>-2.624</td><td>-1.055</td><td> 5.010</td><td>1.1913</td><td> 0.959</td><td>Up    </td></tr>\n",
       "\t<tr><td>2001  </td><td> 0.959</td><td> 0.381</td><td>-0.192</td><td>-2.624</td><td>-1.055</td><td>1.2965</td><td> 1.032</td><td>Up    </td></tr>\n",
       "\t<tr><td>2001  </td><td> 1.032</td><td> 0.959</td><td> 0.381</td><td>-0.192</td><td>-2.624</td><td>1.4112</td><td>-0.623</td><td>Down  </td></tr>\n",
       "\t<tr><td>2001  </td><td>-0.623</td><td> 1.032</td><td> 0.959</td><td> 0.381</td><td>-0.192</td><td>1.2760</td><td> 0.614</td><td>Up    </td></tr>\n",
       "\t<tr><td>2001  </td><td> 0.614</td><td>-0.623</td><td> 1.032</td><td> 0.959</td><td> 0.381</td><td>1.2057</td><td> 0.213</td><td>Up    </td></tr>\n",
       "\t<tr><td>2001  </td><td> 0.213</td><td> 0.614</td><td>-0.623</td><td> 1.032</td><td> 0.959</td><td>1.3491</td><td> 1.392</td><td>Up    </td></tr>\n",
       "</tbody>\n",
       "</table>\n"
      ],
      "text/latex": [
       "\\begin{tabular}{r|lllllllll}\n",
       " Year & Lag1 & Lag2 & Lag3 & Lag4 & Lag5 & Volume & Today & Direction\\\\\n",
       "\\hline\n",
       "\t 2001   &  0.381 & -0.192 & -2.624 & -1.055 &  5.010 & 1.1913 &  0.959 & Up    \\\\\n",
       "\t 2001   &  0.959 &  0.381 & -0.192 & -2.624 & -1.055 & 1.2965 &  1.032 & Up    \\\\\n",
       "\t 2001   &  1.032 &  0.959 &  0.381 & -0.192 & -2.624 & 1.4112 & -0.623 & Down  \\\\\n",
       "\t 2001   & -0.623 &  1.032 &  0.959 &  0.381 & -0.192 & 1.2760 &  0.614 & Up    \\\\\n",
       "\t 2001   &  0.614 & -0.623 &  1.032 &  0.959 &  0.381 & 1.2057 &  0.213 & Up    \\\\\n",
       "\t 2001   &  0.213 &  0.614 & -0.623 &  1.032 &  0.959 & 1.3491 &  1.392 & Up    \\\\\n",
       "\\end{tabular}\n"
      ],
      "text/markdown": [
       "\n",
       "| Year | Lag1 | Lag2 | Lag3 | Lag4 | Lag5 | Volume | Today | Direction |\n",
       "|---|---|---|---|---|---|---|---|---|\n",
       "| 2001   |  0.381 | -0.192 | -2.624 | -1.055 |  5.010 | 1.1913 |  0.959 | Up     |\n",
       "| 2001   |  0.959 |  0.381 | -0.192 | -2.624 | -1.055 | 1.2965 |  1.032 | Up     |\n",
       "| 2001   |  1.032 |  0.959 |  0.381 | -0.192 | -2.624 | 1.4112 | -0.623 | Down   |\n",
       "| 2001   | -0.623 |  1.032 |  0.959 |  0.381 | -0.192 | 1.2760 |  0.614 | Up     |\n",
       "| 2001   |  0.614 | -0.623 |  1.032 |  0.959 |  0.381 | 1.2057 |  0.213 | Up     |\n",
       "| 2001   |  0.213 |  0.614 | -0.623 |  1.032 |  0.959 | 1.3491 |  1.392 | Up     |\n",
       "\n"
      ],
      "text/plain": [
       "  Year Lag1   Lag2   Lag3   Lag4   Lag5   Volume Today  Direction\n",
       "1 2001  0.381 -0.192 -2.624 -1.055  5.010 1.1913  0.959 Up       \n",
       "2 2001  0.959  0.381 -0.192 -2.624 -1.055 1.2965  1.032 Up       \n",
       "3 2001  1.032  0.959  0.381 -0.192 -2.624 1.4112 -0.623 Down     \n",
       "4 2001 -0.623  1.032  0.959  0.381 -0.192 1.2760  0.614 Up       \n",
       "5 2001  0.614 -0.623  1.032  0.959  0.381 1.2057  0.213 Up       \n",
       "6 2001  0.213  0.614 -0.623  1.032  0.959 1.3491  1.392 Up       "
      ]
     },
     "metadata": {},
     "output_type": "display_data"
    }
   ],
   "source": [
    "head(Smarket)"
   ]
  },
  {
   "cell_type": "code",
   "execution_count": 37,
   "metadata": {},
   "outputs": [
    {
     "data": {
      "text/html": [
       "0.5312"
      ],
      "text/latex": [
       "0.5312"
      ],
      "text/markdown": [
       "0.5312"
      ],
      "text/plain": [
       "[1] 0.5312"
      ]
     },
     "metadata": {},
     "output_type": "display_data"
    }
   ],
   "source": [
    "glm.fit_tmp <- glm(Direction ~ Lag1 + Lag2 + Volume, data = Smarket, family = binomial)\n",
    "glm.probs_tmp <- predict(glm.fit_tmp,type = \"response\")\n",
    "glm.pred_tmp <- ifelse(glm.probs_tmp > 0.5, \"Up\", \"Down\")\n",
    "Direction <- Smarket $ Direction\n",
    "mean(glm.pred_tmp == Direction)"
   ]
  },
  {
   "cell_type": "code",
   "execution_count": 38,
   "metadata": {},
   "outputs": [
    {
     "data": {
      "text/html": [
       "0.5216"
      ],
      "text/latex": [
       "0.5216"
      ],
      "text/markdown": [
       "0.5216"
      ],
      "text/plain": [
       "[1] 0.5216"
      ]
     },
     "metadata": {},
     "output_type": "display_data"
    }
   ],
   "source": [
    "mean(glm.pred == Direction)"
   ]
  },
  {
   "cell_type": "code",
   "execution_count": 40,
   "metadata": {},
   "outputs": [
    {
     "name": "stderr",
     "output_type": "stream",
     "text": [
      "The following object is masked _by_ .GlobalEnv:\n",
      "\n",
      "    Direction\n",
      "\n",
      "The following objects are masked from Smarket (pos = 3):\n",
      "\n",
      "    Direction, Lag1, Lag2, Lag3, Lag4, Lag5, Today, Volume, Year\n",
      "\n",
      "The following objects are masked from Smarket (pos = 4):\n",
      "\n",
      "    Direction, Lag1, Lag2, Lag3, Lag4, Lag5, Today, Volume, Year\n",
      "\n"
     ]
    },
    {
     "data": {
      "text/plain": [
       "        Direction\n",
       "glm.pred Down  Up\n",
       "    Down  145 141\n",
       "    Up    457 507"
      ]
     },
     "metadata": {},
     "output_type": "display_data"
    }
   ],
   "source": [
    "attach(Smarket)\n",
    "table(glm.pred,Direction)"
   ]
  },
  {
   "cell_type": "markdown",
   "metadata": {},
   "source": [
    "# create train/test sets"
   ]
  },
  {
   "cell_type": "code",
   "execution_count": 67,
   "metadata": {},
   "outputs": [
    {
     "data": {
      "text/plain": [
       "        Direction.2005\n",
       "glm.pred Down Up\n",
       "    Down   77 97\n",
       "    Up     34 44"
      ]
     },
     "metadata": {},
     "output_type": "display_data"
    },
    {
     "name": "stdout",
     "output_type": "stream",
     "text": [
      "[1] \"error rate 0.48015873015873\"\n",
      "[1] \"Accuracy 0.48015873015873\"\n"
     ]
    }
   ],
   "source": [
    "train = Year<2005\n",
    "\n",
    "glm.fit <- glm(Direction ~ Lag1 + Lag2 + Lag3 + Lag4 + Lag5 + Volume,\n",
    "               data = Smarket,\n",
    "               family = binomial,\n",
    "               subset = train)\n",
    "\n",
    "glm.probs <- predict(glm.fit,\n",
    "                    newdata = Smarket[!train,],\n",
    "                    type = \"response\")\n",
    "\n",
    "glm.pred <- ifelse(glm.probs > 0.5, \"Up\", \"Down\")\n",
    "\n",
    "Direction.2005 = Smarket$Direction[!train]\n",
    "table(glm.pred, Direction.2005)\n",
    "\n",
    "\n",
    "how_many_correct <- length(which(glm.pred == Direction.2005))\n",
    "\n",
    "errorRate <- how_many_correct / length(Direction.2005)\n",
    "\n",
    "print(paste('error rate', errorRate))\n",
    "\n",
    "\n",
    "misClasificError <- mean(glm.pred != Direction.2005)\n",
    "\n",
    "print(paste('Accuracy',1-misClasificError))"
   ]
  },
  {
   "cell_type": "code",
   "execution_count": 69,
   "metadata": {},
   "outputs": [
    {
     "data": {
      "text/plain": [
       "        Direction_train_all\n",
       "glm.pred Down  Up\n",
       "    Down  175 156\n",
       "    Up    316 351"
      ]
     },
     "metadata": {},
     "output_type": "display_data"
    },
    {
     "name": "stdout",
     "output_type": "stream",
     "text": [
      "[1] \"error rate 0.527054108216433\"\n",
      "[1] \"Accuracy 0.527054108216433\"\n"
     ]
    }
   ],
   "source": [
    "train = Year<2005\n",
    "\n",
    "glm.fit <- glm(Direction ~ Lag1 + Lag2 + Lag3 + Lag4 + Lag5 + Volume,\n",
    "               data = Smarket,\n",
    "               family = binomial,\n",
    "               subset = train)\n",
    "\n",
    "glm.probs <- predict(glm.fit,\n",
    "                    type = \"response\")\n",
    "\n",
    "glm.pred <- ifelse(glm.probs > 0.5, \"Up\", \"Down\")\n",
    "\n",
    "Direction_train_all = Smarket$Direction[train]\n",
    "table(glm.pred, Direction_train_all)\n",
    "\n",
    "how_many_correct <- length(which(glm.pred == Direction_train_all))\n",
    "\n",
    "errorRate <- how_many_correct / length(Direction_train_all)\n",
    "\n",
    "print(paste('error rate', errorRate))\n",
    "\n",
    "\n",
    "misClasificError <- mean(glm.pred != Direction_train_all)\n",
    "\n",
    "print(paste('Accuracy',1-misClasificError))"
   ]
  },
  {
   "cell_type": "code",
   "execution_count": null,
   "metadata": {},
   "outputs": [],
   "source": []
  }
 ],
 "metadata": {
  "kernelspec": {
   "display_name": "R",
   "language": "R",
   "name": "ir"
  },
  "language_info": {
   "codemirror_mode": "r",
   "file_extension": ".r",
   "mimetype": "text/x-r-source",
   "name": "R",
   "pygments_lexer": "r",
   "version": "3.6.1"
  }
 },
 "nbformat": 4,
 "nbformat_minor": 4
}
